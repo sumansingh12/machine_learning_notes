{
 "cells": [
  {
   "cell_type": "code",
   "execution_count": 1,
   "id": "2e6f00bc-3224-4307-a8c8-61299696f3c0",
   "metadata": {},
   "outputs": [],
   "source": [
    "from sklearn.datasets import make_regression\n",
    "import pandas as pd\n",
    "import numpy as np \n",
    "\n",
    "import plotly. express as px\n",
    "import plotly.graph_objects as go"
   ]
  },
  {
   "cell_type": "code",
   "execution_count": 2,
   "id": "d00a8076-a2d6-496f-bcac-a712b366083a",
   "metadata": {},
   "outputs": [],
   "source": [
    "x,y =make_regression(n_samples=100, n_features=2,n_informative=2, n_targets=1 , noise=50)"
   ]
  },
  {
   "cell_type": "code",
   "execution_count": 4,
   "id": "e9c66cd2-00dd-40d4-8d8c-94d62244cc67",
   "metadata": {},
   "outputs": [],
   "source": [
    "df= pd.DataFrame({'feature1':x[:,0],'feature2':x[:,1],'target':y})"
   ]
  },
  {
   "cell_type": "code",
   "execution_count": 5,
   "id": "56626411-b39c-457d-9efc-cb40d29b2bf5",
   "metadata": {},
   "outputs": [
    {
     "data": {
      "text/html": [
       "<div>\n",
       "<style scoped>\n",
       "    .dataframe tbody tr th:only-of-type {\n",
       "        vertical-align: middle;\n",
       "    }\n",
       "\n",
       "    .dataframe tbody tr th {\n",
       "        vertical-align: top;\n",
       "    }\n",
       "\n",
       "    .dataframe thead th {\n",
       "        text-align: right;\n",
       "    }\n",
       "</style>\n",
       "<table border=\"1\" class=\"dataframe\">\n",
       "  <thead>\n",
       "    <tr style=\"text-align: right;\">\n",
       "      <th></th>\n",
       "      <th>feature1</th>\n",
       "      <th>feature2</th>\n",
       "      <th>target</th>\n",
       "    </tr>\n",
       "  </thead>\n",
       "  <tbody>\n",
       "    <tr>\n",
       "      <th>0</th>\n",
       "      <td>1.534620</td>\n",
       "      <td>-0.641479</td>\n",
       "      <td>178.471932</td>\n",
       "    </tr>\n",
       "    <tr>\n",
       "      <th>1</th>\n",
       "      <td>-0.124922</td>\n",
       "      <td>0.555938</td>\n",
       "      <td>118.324779</td>\n",
       "    </tr>\n",
       "    <tr>\n",
       "      <th>2</th>\n",
       "      <td>-2.404577</td>\n",
       "      <td>-0.645598</td>\n",
       "      <td>-238.094955</td>\n",
       "    </tr>\n",
       "    <tr>\n",
       "      <th>3</th>\n",
       "      <td>0.644300</td>\n",
       "      <td>0.492657</td>\n",
       "      <td>71.035999</td>\n",
       "    </tr>\n",
       "    <tr>\n",
       "      <th>4</th>\n",
       "      <td>1.357677</td>\n",
       "      <td>0.398132</td>\n",
       "      <td>152.395856</td>\n",
       "    </tr>\n",
       "  </tbody>\n",
       "</table>\n",
       "</div>"
      ],
      "text/plain": [
       "   feature1  feature2      target\n",
       "0  1.534620 -0.641479  178.471932\n",
       "1 -0.124922  0.555938  118.324779\n",
       "2 -2.404577 -0.645598 -238.094955\n",
       "3  0.644300  0.492657   71.035999\n",
       "4  1.357677  0.398132  152.395856"
      ]
     },
     "execution_count": 5,
     "metadata": {},
     "output_type": "execute_result"
    }
   ],
   "source": [
    "df.head()"
   ]
  },
  {
   "cell_type": "code",
   "execution_count": 7,
   "id": "566820ce-193f-4fa5-a665-2b9e13505014",
   "metadata": {},
   "outputs": [],
   "source": [
    "fig = px.scatter_3d(df ,x= 'feature1' ,y= 'feature2' ,z= 'target')"
   ]
  },
  {
   "cell_type": "code",
   "execution_count": 21,
   "id": "1fbe8ab7-baec-4e9e-b849-123ee35a756a",
   "metadata": {
    "scrolled": true
   },
   "outputs": [
    {
     "data": {
      "application/vnd.plotly.v1+json": {
       "config": {
        "plotlyServerURL": "https://plot.ly"
       },
       "data": [
        {
         "hovertemplate": "feature1=%{x}<br>feature2=%{y}<br>target=%{z}<extra></extra>",
         "legendgroup": "",
         "marker": {
          "color": "#636efa",
          "symbol": "circle"
         },
         "mode": "markers",
         "name": "",
         "scene": "scene",
         "showlegend": false,
         "type": "scatter3d",
         "x": [
          1.5346202827016708,
          -0.12492248322287586,
          -2.404576918628337,
          0.6443003139777574,
          1.3576772418211032,
          -0.8226789052437331,
          -0.6987461447768388,
          -1.0122621645561019,
          -1.1416352842088984,
          -0.7432553291190639,
          0.1736998013028402,
          1.0119522766660496,
          -0.8131042307203052,
          0.26906483051047475,
          0.012782069152583243,
          1.4293491019678475,
          -0.6481369762936783,
          0.1659413036040824,
          -0.40475205393342684,
          -0.5945485580371466,
          -0.6071157484265097,
          1.8882608793467226,
          -0.827312653090652,
          -1.8673656132668255,
          -0.2731430369969519,
          0.31159291976542175,
          -0.1431186808784276,
          0.32347077277196673,
          0.7103217341573523,
          -0.54851787145989,
          0.8348609592971032,
          -1.0040589723923816,
          -1.3471498709180443,
          -2.603974976164019,
          0.9576969669084949,
          0.17713963173492148,
          1.1041084381256554,
          -0.020891931002307525,
          -0.7262997223151512,
          1.200454664665966,
          -0.8307343859835482,
          0.031021009605751326,
          0.7939501174367761,
          -0.7010054699838489,
          0.15580470685540546,
          0.24038781120983302,
          0.0992367546782747,
          1.1243565161062408,
          -0.7512482379846163,
          1.7732564613067756,
          -0.34481054196905975,
          0.5755410343546087,
          1.0090615214231018,
          0.4142212492576877,
          -0.024961591477712222,
          0.2449419309107467,
          -1.0932485504000518,
          0.2735506709753171,
          -1.300512330930583,
          0.7247774199301973,
          0.8210011425119353,
          0.5289062623653241,
          -0.8299004328812967,
          0.20989069546988595,
          0.18387936432592128,
          1.0816174912907264,
          -0.2810083219306982,
          1.3498247470366094,
          -0.1865237785457901,
          -0.8962121162050504,
          -0.5396251197548244,
          1.010070006204098,
          0.5586622461825677,
          -0.7059084458823092,
          2.1283320262162877,
          -0.9558244566208961,
          0.9080890612543172,
          0.7984743105777551,
          2.3621788278739917,
          0.009188560829853943,
          -0.38754286102566304,
          1.8365083085815377,
          -1.7383445853681145,
          -0.08603018450520523,
          -1.2168128423339726,
          0.08106592497822868,
          -0.7965053887539961,
          -0.8196366247667902,
          1.0185187636722408,
          0.7642928760881488,
          -1.5127181948696293,
          -0.6588635388679935,
          0.008771103572695541,
          -1.8260962359263901,
          -0.13634257603774766,
          1.0070583274580693,
          -0.17080075767175873,
          0.5973218762583591,
          1.4375845854164195,
          0.25442264074131793
         ],
         "y": [
          -0.6414790364742582,
          0.5559384443277905,
          -0.6455983669048243,
          0.49265684267587234,
          0.3981324608975986,
          1.665046573043473,
          -0.6543826078335235,
          -1.081647749907432,
          -0.9493496802929351,
          0.12035629912261131,
          0.5511274250674761,
          0.48298163971279606,
          -0.2800099943155198,
          0.6028408343975815,
          0.577527377202087,
          1.3532274652880514,
          0.7882793516930604,
          -0.21454004374868857,
          1.8328811289877585,
          0.8509323862960512,
          -0.616285483243706,
          -2.3866496068756757,
          1.269535838434565,
          0.6663700892348073,
          -0.3711712000788504,
          -0.2958035223535677,
          -1.0138199136063122,
          1.6802963493674028,
          0.12464721482237862,
          -0.7459577042455695,
          0.5344563567358208,
          -1.382110757352944,
          0.6609128602053183,
          0.7063774746986782,
          -0.03812406065048252,
          -0.09156314561650321,
          -0.06634217845439898,
          -0.2711890651661418,
          0.15979711186623566,
          2.251871048232685,
          -1.7741435699009236,
          1.6553181299625987,
          -2.4042414873102445,
          0.01281039438554717,
          -0.6020939240194395,
          1.1721271893372343,
          0.028803563560499183,
          0.7799122617619447,
          0.6675636646591847,
          1.7333232442695479,
          0.3018769730527696,
          -0.7951741736549638,
          -0.28341062263859884,
          1.3053033865384873,
          0.16406459519655794,
          1.1196187348806734,
          0.5856135109595906,
          0.4127279291540881,
          -1.0124468358533485,
          0.36831148195409363,
          0.13975394716269485,
          0.32361711967945195,
          -0.3212274204989989,
          0.5721639486006646,
          -0.6970897581064387,
          -1.604640275813219,
          0.13723612248076256,
          -0.306918000245214,
          -0.0206729492596697,
          0.8615479214022356,
          -0.4602596449595264,
          -0.5264002468073011,
          0.9688058003874788,
          -0.2893839466747637,
          -1.0236286360885207,
          -0.8779204447669812,
          0.19138932281191007,
          0.18979137028966467,
          -0.02565272896604744,
          1.2169552598353144,
          1.2635383537720826,
          1.3225993931685898,
          -0.3734365062086953,
          0.6341812295259461,
          0.23486943290270726,
          -0.3901410431278472,
          -0.9042392139205073,
          -0.1380612478096935,
          -0.2677368425415466,
          0.3543084325269339,
          0.2639709674153078,
          -0.6477477391467733,
          1.1359797839200867,
          0.2240946036706851,
          -0.17393890665359105,
          1.3566599136484887,
          -1.2538014737738843,
          0.017591282045067436,
          -0.7320892512279052,
          1.1382223636672844
         ],
         "z": [
          178.47193214966393,
          118.32477854190877,
          -238.09495517472328,
          71.03599897099954,
          152.39585580266132,
          84.75761168793464,
          -64.10941473206194,
          -213.98292093832495,
          -209.15376431516387,
          -21.238345934783098,
          142.8421919979836,
          111.95565037288591,
          -113.67664722145099,
          60.86683225431206,
          39.64734522426472,
          215.56591435241077,
          56.36838528931469,
          16.454826192447968,
          98.27154749879665,
          -6.517668209096081,
          -127.47286990043592,
          32.02094342175415,
          89.04159475506977,
          -188.99058447110022,
          -82.88103820402803,
          28.219226654319005,
          -98.72555074953371,
          147.29814172468826,
          50.940499597769275,
          -128.2080370082767,
          122.6014143970463,
          -198.72909017328885,
          -151.80678285080927,
          -120.74363359441548,
          159.40601709917271,
          5.9069818543257195,
          63.575195520391716,
          -48.04649341799802,
          -100.1545284815814,
          306.6392086431318,
          -117.67120958483589,
          102.66180833400209,
          -82.53217267512191,
          -99.35364737905377,
          -85.88960861564131,
          103.89681707635954,
          45.631285660261675,
          237.3229807558378,
          -13.4330709884937,
          193.88859708372212,
          46.52630020416048,
          -26.52686705683289,
          -8.591236575502904,
          173.30083037217932,
          76.1734909400139,
          212.68393667480098,
          16.943087725754815,
          85.56876453952847,
          -280.2216827860598,
          64.56537782538203,
          169.01940267511523,
          41.95537211979961,
          -103.89010289021346,
          74.85103547430558,
          -102.48584487461851,
          -7.521879808414866,
          -0.8461063954945658,
          102.66481689527053,
          -17.60940826032695,
          -60.44822257102626,
          -71.45656378562589,
          143.7548153182603,
          107.43989538621392,
          -8.811648991885505,
          203.2308728462835,
          -147.99202403558996,
          -33.73401254153035,
          77.21159112606274,
          215.22776032894478,
          218.85225796656783,
          69.57043566487995,
          248.19646694505337,
          -138.37935228587563,
          51.74002706381085,
          -138.04355114631426,
          -17.45603179272627,
          -119.91925865193816,
          -42.01015037136287,
          39.052671973779375,
          120.42931571462888,
          -57.789717311807934,
          -164.85915393922087,
          201.51302836883667,
          -204.50452029910488,
          73.40467407326061,
          291.0995693690935,
          -173.23966581248357,
          14.105004559390018,
          138.6710335523208,
          170.3835511547881
         ]
        }
       ],
       "layout": {
        "autosize": true,
        "legend": {
         "tracegroupgap": 0
        },
        "margin": {
         "t": 60
        },
        "scene": {
         "aspectmode": "auto",
         "aspectratio": {
          "x": 1,
          "y": 1,
          "z": 1
         },
         "camera": {
          "center": {
           "x": 0,
           "y": 0,
           "z": 0
          },
          "eye": {
           "x": 0.13250330108456024,
           "y": 0.1325033010845602,
           "z": 0.13250330108456024
          },
          "projection": {
           "type": "perspective"
          },
          "up": {
           "x": 0,
           "y": 0,
           "z": 1
          }
         },
         "domain": {
          "x": [
           0,
           1
          ],
          "y": [
           0,
           1
          ]
         },
         "xaxis": {
          "title": {
           "text": "feature1"
          },
          "type": "linear"
         },
         "yaxis": {
          "title": {
           "text": "feature2"
          },
          "type": "linear"
         },
         "zaxis": {
          "title": {
           "text": "target"
          },
          "type": "linear"
         }
        },
        "template": {
         "data": {
          "bar": [
           {
            "error_x": {
             "color": "#2a3f5f"
            },
            "error_y": {
             "color": "#2a3f5f"
            },
            "marker": {
             "line": {
              "color": "#E5ECF6",
              "width": 0.5
             },
             "pattern": {
              "fillmode": "overlay",
              "size": 10,
              "solidity": 0.2
             }
            },
            "type": "bar"
           }
          ],
          "barpolar": [
           {
            "marker": {
             "line": {
              "color": "#E5ECF6",
              "width": 0.5
             },
             "pattern": {
              "fillmode": "overlay",
              "size": 10,
              "solidity": 0.2
             }
            },
            "type": "barpolar"
           }
          ],
          "carpet": [
           {
            "aaxis": {
             "endlinecolor": "#2a3f5f",
             "gridcolor": "white",
             "linecolor": "white",
             "minorgridcolor": "white",
             "startlinecolor": "#2a3f5f"
            },
            "baxis": {
             "endlinecolor": "#2a3f5f",
             "gridcolor": "white",
             "linecolor": "white",
             "minorgridcolor": "white",
             "startlinecolor": "#2a3f5f"
            },
            "type": "carpet"
           }
          ],
          "choropleth": [
           {
            "colorbar": {
             "outlinewidth": 0,
             "ticks": ""
            },
            "type": "choropleth"
           }
          ],
          "contour": [
           {
            "colorbar": {
             "outlinewidth": 0,
             "ticks": ""
            },
            "colorscale": [
             [
              0,
              "#0d0887"
             ],
             [
              0.1111111111111111,
              "#46039f"
             ],
             [
              0.2222222222222222,
              "#7201a8"
             ],
             [
              0.3333333333333333,
              "#9c179e"
             ],
             [
              0.4444444444444444,
              "#bd3786"
             ],
             [
              0.5555555555555556,
              "#d8576b"
             ],
             [
              0.6666666666666666,
              "#ed7953"
             ],
             [
              0.7777777777777778,
              "#fb9f3a"
             ],
             [
              0.8888888888888888,
              "#fdca26"
             ],
             [
              1,
              "#f0f921"
             ]
            ],
            "type": "contour"
           }
          ],
          "contourcarpet": [
           {
            "colorbar": {
             "outlinewidth": 0,
             "ticks": ""
            },
            "type": "contourcarpet"
           }
          ],
          "heatmap": [
           {
            "colorbar": {
             "outlinewidth": 0,
             "ticks": ""
            },
            "colorscale": [
             [
              0,
              "#0d0887"
             ],
             [
              0.1111111111111111,
              "#46039f"
             ],
             [
              0.2222222222222222,
              "#7201a8"
             ],
             [
              0.3333333333333333,
              "#9c179e"
             ],
             [
              0.4444444444444444,
              "#bd3786"
             ],
             [
              0.5555555555555556,
              "#d8576b"
             ],
             [
              0.6666666666666666,
              "#ed7953"
             ],
             [
              0.7777777777777778,
              "#fb9f3a"
             ],
             [
              0.8888888888888888,
              "#fdca26"
             ],
             [
              1,
              "#f0f921"
             ]
            ],
            "type": "heatmap"
           }
          ],
          "heatmapgl": [
           {
            "colorbar": {
             "outlinewidth": 0,
             "ticks": ""
            },
            "colorscale": [
             [
              0,
              "#0d0887"
             ],
             [
              0.1111111111111111,
              "#46039f"
             ],
             [
              0.2222222222222222,
              "#7201a8"
             ],
             [
              0.3333333333333333,
              "#9c179e"
             ],
             [
              0.4444444444444444,
              "#bd3786"
             ],
             [
              0.5555555555555556,
              "#d8576b"
             ],
             [
              0.6666666666666666,
              "#ed7953"
             ],
             [
              0.7777777777777778,
              "#fb9f3a"
             ],
             [
              0.8888888888888888,
              "#fdca26"
             ],
             [
              1,
              "#f0f921"
             ]
            ],
            "type": "heatmapgl"
           }
          ],
          "histogram": [
           {
            "marker": {
             "pattern": {
              "fillmode": "overlay",
              "size": 10,
              "solidity": 0.2
             }
            },
            "type": "histogram"
           }
          ],
          "histogram2d": [
           {
            "colorbar": {
             "outlinewidth": 0,
             "ticks": ""
            },
            "colorscale": [
             [
              0,
              "#0d0887"
             ],
             [
              0.1111111111111111,
              "#46039f"
             ],
             [
              0.2222222222222222,
              "#7201a8"
             ],
             [
              0.3333333333333333,
              "#9c179e"
             ],
             [
              0.4444444444444444,
              "#bd3786"
             ],
             [
              0.5555555555555556,
              "#d8576b"
             ],
             [
              0.6666666666666666,
              "#ed7953"
             ],
             [
              0.7777777777777778,
              "#fb9f3a"
             ],
             [
              0.8888888888888888,
              "#fdca26"
             ],
             [
              1,
              "#f0f921"
             ]
            ],
            "type": "histogram2d"
           }
          ],
          "histogram2dcontour": [
           {
            "colorbar": {
             "outlinewidth": 0,
             "ticks": ""
            },
            "colorscale": [
             [
              0,
              "#0d0887"
             ],
             [
              0.1111111111111111,
              "#46039f"
             ],
             [
              0.2222222222222222,
              "#7201a8"
             ],
             [
              0.3333333333333333,
              "#9c179e"
             ],
             [
              0.4444444444444444,
              "#bd3786"
             ],
             [
              0.5555555555555556,
              "#d8576b"
             ],
             [
              0.6666666666666666,
              "#ed7953"
             ],
             [
              0.7777777777777778,
              "#fb9f3a"
             ],
             [
              0.8888888888888888,
              "#fdca26"
             ],
             [
              1,
              "#f0f921"
             ]
            ],
            "type": "histogram2dcontour"
           }
          ],
          "mesh3d": [
           {
            "colorbar": {
             "outlinewidth": 0,
             "ticks": ""
            },
            "type": "mesh3d"
           }
          ],
          "parcoords": [
           {
            "line": {
             "colorbar": {
              "outlinewidth": 0,
              "ticks": ""
             }
            },
            "type": "parcoords"
           }
          ],
          "pie": [
           {
            "automargin": true,
            "type": "pie"
           }
          ],
          "scatter": [
           {
            "fillpattern": {
             "fillmode": "overlay",
             "size": 10,
             "solidity": 0.2
            },
            "type": "scatter"
           }
          ],
          "scatter3d": [
           {
            "line": {
             "colorbar": {
              "outlinewidth": 0,
              "ticks": ""
             }
            },
            "marker": {
             "colorbar": {
              "outlinewidth": 0,
              "ticks": ""
             }
            },
            "type": "scatter3d"
           }
          ],
          "scattercarpet": [
           {
            "marker": {
             "colorbar": {
              "outlinewidth": 0,
              "ticks": ""
             }
            },
            "type": "scattercarpet"
           }
          ],
          "scattergeo": [
           {
            "marker": {
             "colorbar": {
              "outlinewidth": 0,
              "ticks": ""
             }
            },
            "type": "scattergeo"
           }
          ],
          "scattergl": [
           {
            "marker": {
             "colorbar": {
              "outlinewidth": 0,
              "ticks": ""
             }
            },
            "type": "scattergl"
           }
          ],
          "scattermapbox": [
           {
            "marker": {
             "colorbar": {
              "outlinewidth": 0,
              "ticks": ""
             }
            },
            "type": "scattermapbox"
           }
          ],
          "scatterpolar": [
           {
            "marker": {
             "colorbar": {
              "outlinewidth": 0,
              "ticks": ""
             }
            },
            "type": "scatterpolar"
           }
          ],
          "scatterpolargl": [
           {
            "marker": {
             "colorbar": {
              "outlinewidth": 0,
              "ticks": ""
             }
            },
            "type": "scatterpolargl"
           }
          ],
          "scatterternary": [
           {
            "marker": {
             "colorbar": {
              "outlinewidth": 0,
              "ticks": ""
             }
            },
            "type": "scatterternary"
           }
          ],
          "surface": [
           {
            "colorbar": {
             "outlinewidth": 0,
             "ticks": ""
            },
            "colorscale": [
             [
              0,
              "#0d0887"
             ],
             [
              0.1111111111111111,
              "#46039f"
             ],
             [
              0.2222222222222222,
              "#7201a8"
             ],
             [
              0.3333333333333333,
              "#9c179e"
             ],
             [
              0.4444444444444444,
              "#bd3786"
             ],
             [
              0.5555555555555556,
              "#d8576b"
             ],
             [
              0.6666666666666666,
              "#ed7953"
             ],
             [
              0.7777777777777778,
              "#fb9f3a"
             ],
             [
              0.8888888888888888,
              "#fdca26"
             ],
             [
              1,
              "#f0f921"
             ]
            ],
            "type": "surface"
           }
          ],
          "table": [
           {
            "cells": {
             "fill": {
              "color": "#EBF0F8"
             },
             "line": {
              "color": "white"
             }
            },
            "header": {
             "fill": {
              "color": "#C8D4E3"
             },
             "line": {
              "color": "white"
             }
            },
            "type": "table"
           }
          ]
         },
         "layout": {
          "annotationdefaults": {
           "arrowcolor": "#2a3f5f",
           "arrowhead": 0,
           "arrowwidth": 1
          },
          "autotypenumbers": "strict",
          "coloraxis": {
           "colorbar": {
            "outlinewidth": 0,
            "ticks": ""
           }
          },
          "colorscale": {
           "diverging": [
            [
             0,
             "#8e0152"
            ],
            [
             0.1,
             "#c51b7d"
            ],
            [
             0.2,
             "#de77ae"
            ],
            [
             0.3,
             "#f1b6da"
            ],
            [
             0.4,
             "#fde0ef"
            ],
            [
             0.5,
             "#f7f7f7"
            ],
            [
             0.6,
             "#e6f5d0"
            ],
            [
             0.7,
             "#b8e186"
            ],
            [
             0.8,
             "#7fbc41"
            ],
            [
             0.9,
             "#4d9221"
            ],
            [
             1,
             "#276419"
            ]
           ],
           "sequential": [
            [
             0,
             "#0d0887"
            ],
            [
             0.1111111111111111,
             "#46039f"
            ],
            [
             0.2222222222222222,
             "#7201a8"
            ],
            [
             0.3333333333333333,
             "#9c179e"
            ],
            [
             0.4444444444444444,
             "#bd3786"
            ],
            [
             0.5555555555555556,
             "#d8576b"
            ],
            [
             0.6666666666666666,
             "#ed7953"
            ],
            [
             0.7777777777777778,
             "#fb9f3a"
            ],
            [
             0.8888888888888888,
             "#fdca26"
            ],
            [
             1,
             "#f0f921"
            ]
           ],
           "sequentialminus": [
            [
             0,
             "#0d0887"
            ],
            [
             0.1111111111111111,
             "#46039f"
            ],
            [
             0.2222222222222222,
             "#7201a8"
            ],
            [
             0.3333333333333333,
             "#9c179e"
            ],
            [
             0.4444444444444444,
             "#bd3786"
            ],
            [
             0.5555555555555556,
             "#d8576b"
            ],
            [
             0.6666666666666666,
             "#ed7953"
            ],
            [
             0.7777777777777778,
             "#fb9f3a"
            ],
            [
             0.8888888888888888,
             "#fdca26"
            ],
            [
             1,
             "#f0f921"
            ]
           ]
          },
          "colorway": [
           "#636efa",
           "#EF553B",
           "#00cc96",
           "#ab63fa",
           "#FFA15A",
           "#19d3f3",
           "#FF6692",
           "#B6E880",
           "#FF97FF",
           "#FECB52"
          ],
          "font": {
           "color": "#2a3f5f"
          },
          "geo": {
           "bgcolor": "white",
           "lakecolor": "white",
           "landcolor": "#E5ECF6",
           "showlakes": true,
           "showland": true,
           "subunitcolor": "white"
          },
          "hoverlabel": {
           "align": "left"
          },
          "hovermode": "closest",
          "mapbox": {
           "style": "light"
          },
          "paper_bgcolor": "white",
          "plot_bgcolor": "#E5ECF6",
          "polar": {
           "angularaxis": {
            "gridcolor": "white",
            "linecolor": "white",
            "ticks": ""
           },
           "bgcolor": "#E5ECF6",
           "radialaxis": {
            "gridcolor": "white",
            "linecolor": "white",
            "ticks": ""
           }
          },
          "scene": {
           "xaxis": {
            "backgroundcolor": "#E5ECF6",
            "gridcolor": "white",
            "gridwidth": 2,
            "linecolor": "white",
            "showbackground": true,
            "ticks": "",
            "zerolinecolor": "white"
           },
           "yaxis": {
            "backgroundcolor": "#E5ECF6",
            "gridcolor": "white",
            "gridwidth": 2,
            "linecolor": "white",
            "showbackground": true,
            "ticks": "",
            "zerolinecolor": "white"
           },
           "zaxis": {
            "backgroundcolor": "#E5ECF6",
            "gridcolor": "white",
            "gridwidth": 2,
            "linecolor": "white",
            "showbackground": true,
            "ticks": "",
            "zerolinecolor": "white"
           }
          },
          "shapedefaults": {
           "line": {
            "color": "#2a3f5f"
           }
          },
          "ternary": {
           "aaxis": {
            "gridcolor": "white",
            "linecolor": "white",
            "ticks": ""
           },
           "baxis": {
            "gridcolor": "white",
            "linecolor": "white",
            "ticks": ""
           },
           "bgcolor": "#E5ECF6",
           "caxis": {
            "gridcolor": "white",
            "linecolor": "white",
            "ticks": ""
           }
          },
          "title": {
           "x": 0.05
          },
          "xaxis": {
           "automargin": true,
           "gridcolor": "white",
           "linecolor": "white",
           "ticks": "",
           "title": {
            "standoff": 15
           },
           "zerolinecolor": "white",
           "zerolinewidth": 2
          },
          "yaxis": {
           "automargin": true,
           "gridcolor": "white",
           "linecolor": "white",
           "ticks": "",
           "title": {
            "standoff": 15
           },
           "zerolinecolor": "white",
           "zerolinewidth": 2
          }
         }
        }
       }
      },
      "image/png": "[encoded data removed]",
      "text/html": [
       "<div>                            <div id=\"a97d4d1b-3d45-4d1e-bfd7-13301d0c59a2\" class=\"plotly-graph-div\" style=\"height:525px; width:100%;\"></div>            <script type=\"text/javascript\">                require([\"plotly\"], function(Plotly) {                    window.PLOTLYENV=window.PLOTLYENV || {};                                    if (document.getElementById(\"a97d4d1b-3d45-4d1e-bfd7-13301d0c59a2\")) {                    Plotly.newPlot(                        \"a97d4d1b-3d45-4d1e-bfd7-13301d0c59a2\",                        [{\"hovertemplate\":\"feature1=%{x}\\u003cbr\\u003efeature2=%{y}\\u003cbr\\u003etarget=%{z}\\u003cextra\\u003e\\u003c\\u002fextra\\u003e\",\"legendgroup\":\"\",\"marker\":{\"color\":\"#636efa\",\"symbol\":\"circle\"},\"mode\":\"markers\",\"name\":\"\",\"scene\":\"scene\",\"showlegend\":false,\"x\":[1.5346202827016708,-0.12492248322287586,-2.404576918628337,0.6443003139777574,1.3576772418211032,-0.8226789052437331,-0.6987461447768388,-1.0122621645561019,-1.1416352842088984,-0.7432553291190639,0.1736998013028402,1.0119522766660496,-0.8131042307203052,0.26906483051047475,0.012782069152583243,1.4293491019678475,-0.6481369762936783,0.1659413036040824,-0.40475205393342684,-0.5945485580371466,-0.6071157484265097,1.8882608793467226,-0.827312653090652,-1.8673656132668255,-0.2731430369969519,0.31159291976542175,-0.1431186808784276,0.32347077277196673,0.7103217341573523,-0.54851787145989,0.8348609592971032,-1.0040589723923816,-1.3471498709180443,-2.603974976164019,0.9576969669084949,0.17713963173492148,1.1041084381256554,-0.020891931002307525,-0.7262997223151512,1.200454664665966,-0.8307343859835482,0.031021009605751326,0.7939501174367761,-0.7010054699838489,0.15580470685540546,0.24038781120983302,0.0992367546782747,1.1243565161062408,-0.7512482379846163,1.7732564613067756,-0.34481054196905975,0.5755410343546087,1.0090615214231018,0.4142212492576877,-0.024961591477712222,0.2449419309107467,-1.0932485504000518,0.2735506709753171,-1.300512330930583,0.7247774199301973,0.8210011425119353,0.5289062623653241,-0.8299004328812967,0.20989069546988595,0.18387936432592128,1.0816174912907264,-0.2810083219306982,1.3498247470366094,-0.1865237785457901,-0.8962121162050504,-0.5396251197548244,1.010070006204098,0.5586622461825677,-0.7059084458823092,2.1283320262162877,-0.9558244566208961,0.9080890612543172,0.7984743105777551,2.3621788278739917,0.009188560829853943,-0.38754286102566304,1.8365083085815377,-1.7383445853681145,-0.08603018450520523,-1.2168128423339726,0.08106592497822868,-0.7965053887539961,-0.8196366247667902,1.0185187636722408,0.7642928760881488,-1.5127181948696293,-0.6588635388679935,0.008771103572695541,-1.8260962359263901,-0.13634257603774766,1.0070583274580693,-0.17080075767175873,0.5973218762583591,1.4375845854164195,0.25442264074131793],\"y\":[-0.6414790364742582,0.5559384443277905,-0.6455983669048243,0.49265684267587234,0.3981324608975986,1.665046573043473,-0.6543826078335235,-1.081647749907432,-0.9493496802929351,0.12035629912261131,0.5511274250674761,0.48298163971279606,-0.2800099943155198,0.6028408343975815,0.577527377202087,1.3532274652880514,0.7882793516930604,-0.21454004374868857,1.8328811289877585,0.8509323862960512,-0.616285483243706,-2.3866496068756757,1.269535838434565,0.6663700892348073,-0.3711712000788504,-0.2958035223535677,-1.0138199136063122,1.6802963493674028,0.12464721482237862,-0.7459577042455695,0.5344563567358208,-1.382110757352944,0.6609128602053183,0.7063774746986782,-0.03812406065048252,-0.09156314561650321,-0.06634217845439898,-0.2711890651661418,0.15979711186623566,2.251871048232685,-1.7741435699009236,1.6553181299625987,-2.4042414873102445,0.01281039438554717,-0.6020939240194395,1.1721271893372343,0.028803563560499183,0.7799122617619447,0.6675636646591847,1.7333232442695479,0.3018769730527696,-0.7951741736549638,-0.28341062263859884,1.3053033865384873,0.16406459519655794,1.1196187348806734,0.5856135109595906,0.4127279291540881,-1.0124468358533485,0.36831148195409363,0.13975394716269485,0.32361711967945195,-0.3212274204989989,0.5721639486006646,-0.6970897581064387,-1.604640275813219,0.13723612248076256,-0.306918000245214,-0.0206729492596697,0.8615479214022356,-0.4602596449595264,-0.5264002468073011,0.9688058003874788,-0.2893839466747637,-1.0236286360885207,-0.8779204447669812,0.19138932281191007,0.18979137028966467,-0.02565272896604744,1.2169552598353144,1.2635383537720826,1.3225993931685898,-0.3734365062086953,0.6341812295259461,0.23486943290270726,-0.3901410431278472,-0.9042392139205073,-0.1380612478096935,-0.2677368425415466,0.3543084325269339,0.2639709674153078,-0.6477477391467733,1.1359797839200867,0.2240946036706851,-0.17393890665359105,1.3566599136484887,-1.2538014737738843,0.017591282045067436,-0.7320892512279052,1.1382223636672844],\"z\":[178.47193214966393,118.32477854190877,-238.09495517472328,71.03599897099954,152.39585580266132,84.75761168793464,-64.10941473206194,-213.98292093832495,-209.15376431516387,-21.238345934783098,142.8421919979836,111.95565037288591,-113.67664722145099,60.86683225431206,39.64734522426472,215.56591435241077,56.36838528931469,16.454826192447968,98.27154749879665,-6.517668209096081,-127.47286990043592,32.02094342175415,89.04159475506977,-188.99058447110022,-82.88103820402803,28.219226654319005,-98.72555074953371,147.29814172468826,50.940499597769275,-128.2080370082767,122.6014143970463,-198.72909017328885,-151.80678285080927,-120.74363359441548,159.40601709917271,5.9069818543257195,63.575195520391716,-48.04649341799802,-100.1545284815814,306.6392086431318,-117.67120958483589,102.66180833400209,-82.53217267512191,-99.35364737905377,-85.88960861564131,103.89681707635954,45.631285660261675,237.3229807558378,-13.4330709884937,193.88859708372212,46.52630020416048,-26.52686705683289,-8.591236575502904,173.30083037217932,76.1734909400139,212.68393667480098,16.943087725754815,85.56876453952847,-280.2216827860598,64.56537782538203,169.01940267511523,41.95537211979961,-103.89010289021346,74.85103547430558,-102.48584487461851,-7.521879808414866,-0.8461063954945658,102.66481689527053,-17.60940826032695,-60.44822257102626,-71.45656378562589,143.7548153182603,107.43989538621392,-8.811648991885505,203.2308728462835,-147.99202403558996,-33.73401254153035,77.21159112606274,215.22776032894478,218.85225796656783,69.57043566487995,248.19646694505337,-138.37935228587563,51.74002706381085,-138.04355114631426,-17.45603179272627,-119.91925865193816,-42.01015037136287,39.052671973779375,120.42931571462888,-57.789717311807934,-164.85915393922087,201.51302836883667,-204.50452029910488,73.40467407326061,291.0995693690935,-173.23966581248357,14.105004559390018,138.6710335523208,170.3835511547881],\"type\":\"scatter3d\"}],                        {\"template\":{\"data\":{\"histogram2dcontour\":[{\"type\":\"histogram2dcontour\",\"colorbar\":{\"outlinewidth\":0,\"ticks\":\"\"},\"colorscale\":[[0.0,\"#0d0887\"],[0.1111111111111111,\"#46039f\"],[0.2222222222222222,\"#7201a8\"],[0.3333333333333333,\"#9c179e\"],[0.4444444444444444,\"#bd3786\"],[0.5555555555555556,\"#d8576b\"],[0.6666666666666666,\"#ed7953\"],[0.7777777777777778,\"#fb9f3a\"],[0.8888888888888888,\"#fdca26\"],[1.0,\"#f0f921\"]]}],\"choropleth\":[{\"type\":\"choropleth\",\"colorbar\":{\"outlinewidth\":0,\"ticks\":\"\"}}],\"histogram2d\":[{\"type\":\"histogram2d\",\"colorbar\":{\"outlinewidth\":0,\"ticks\":\"\"},\"colorscale\":[[0.0,\"#0d0887\"],[0.1111111111111111,\"#46039f\"],[0.2222222222222222,\"#7201a8\"],[0.3333333333333333,\"#9c179e\"],[0.4444444444444444,\"#bd3786\"],[0.5555555555555556,\"#d8576b\"],[0.6666666666666666,\"#ed7953\"],[0.7777777777777778,\"#fb9f3a\"],[0.8888888888888888,\"#fdca26\"],[1.0,\"#f0f921\"]]}],\"heatmap\":[{\"type\":\"heatmap\",\"colorbar\":{\"outlinewidth\":0,\"ticks\":\"\"},\"colorscale\":[[0.0,\"#0d0887\"],[0.1111111111111111,\"#46039f\"],[0.2222222222222222,\"#7201a8\"],[0.3333333333333333,\"#9c179e\"],[0.4444444444444444,\"#bd3786\"],[0.5555555555555556,\"#d8576b\"],[0.6666666666666666,\"#ed7953\"],[0.7777777777777778,\"#fb9f3a\"],[0.8888888888888888,\"#fdca26\"],[1.0,\"#f0f921\"]]}],\"heatmapgl\":[{\"type\":\"heatmapgl\",\"colorbar\":{\"outlinewidth\":0,\"ticks\":\"\"},\"colorscale\":[[0.0,\"#0d0887\"],[0.1111111111111111,\"#46039f\"],[0.2222222222222222,\"#7201a8\"],[0.3333333333333333,\"#9c179e\"],[0.4444444444444444,\"#bd3786\"],[0.5555555555555556,\"#d8576b\"],[0.6666666666666666,\"#ed7953\"],[0.7777777777777778,\"#fb9f3a\"],[0.8888888888888888,\"#fdca26\"],[1.0,\"#f0f921\"]]}],\"contourcarpet\":[{\"type\":\"contourcarpet\",\"colorbar\":{\"outlinewidth\":0,\"ticks\":\"\"}}],\"contour\":[{\"type\":\"contour\",\"colorbar\":{\"outlinewidth\":0,\"ticks\":\"\"},\"colorscale\":[[0.0,\"#0d0887\"],[0.1111111111111111,\"#46039f\"],[0.2222222222222222,\"#7201a8\"],[0.3333333333333333,\"#9c179e\"],[0.4444444444444444,\"#bd3786\"],[0.5555555555555556,\"#d8576b\"],[0.6666666666666666,\"#ed7953\"],[0.7777777777777778,\"#fb9f3a\"],[0.8888888888888888,\"#fdca26\"],[1.0,\"#f0f921\"]]}],\"surface\":[{\"type\":\"surface\",\"colorbar\":{\"outlinewidth\":0,\"ticks\":\"\"},\"colorscale\":[[0.0,\"#0d0887\"],[0.1111111111111111,\"#46039f\"],[0.2222222222222222,\"#7201a8\"],[0.3333333333333333,\"#9c179e\"],[0.4444444444444444,\"#bd3786\"],[0.5555555555555556,\"#d8576b\"],[0.6666666666666666,\"#ed7953\"],[0.7777777777777778,\"#fb9f3a\"],[0.8888888888888888,\"#fdca26\"],[1.0,\"#f0f921\"]]}],\"mesh3d\":[{\"type\":\"mesh3d\",\"colorbar\":{\"outlinewidth\":0,\"ticks\":\"\"}}],\"scatter\":[{\"fillpattern\":{\"fillmode\":\"overlay\",\"size\":10,\"solidity\":0.2},\"type\":\"scatter\"}],\"parcoords\":[{\"type\":\"parcoords\",\"line\":{\"colorbar\":{\"outlinewidth\":0,\"ticks\":\"\"}}}],\"scatterpolargl\":[{\"type\":\"scatterpolargl\",\"marker\":{\"colorbar\":{\"outlinewidth\":0,\"ticks\":\"\"}}}],\"bar\":[{\"error_x\":{\"color\":\"#2a3f5f\"},\"error_y\":{\"color\":\"#2a3f5f\"},\"marker\":{\"line\":{\"color\":\"#E5ECF6\",\"width\":0.5},\"pattern\":{\"fillmode\":\"overlay\",\"size\":10,\"solidity\":0.2}},\"type\":\"bar\"}],\"scattergeo\":[{\"type\":\"scattergeo\",\"marker\":{\"colorbar\":{\"outlinewidth\":0,\"ticks\":\"\"}}}],\"scatterpolar\":[{\"type\":\"scatterpolar\",\"marker\":{\"colorbar\":{\"outlinewidth\":0,\"ticks\":\"\"}}}],\"histogram\":[{\"marker\":{\"pattern\":{\"fillmode\":\"overlay\",\"size\":10,\"solidity\":0.2}},\"type\":\"histogram\"}],\"scattergl\":[{\"type\":\"scattergl\",\"marker\":{\"colorbar\":{\"outlinewidth\":0,\"ticks\":\"\"}}}],\"scatter3d\":[{\"type\":\"scatter3d\",\"line\":{\"colorbar\":{\"outlinewidth\":0,\"ticks\":\"\"}},\"marker\":{\"colorbar\":{\"outlinewidth\":0,\"ticks\":\"\"}}}],\"scattermapbox\":[{\"type\":\"scattermapbox\",\"marker\":{\"colorbar\":{\"outlinewidth\":0,\"ticks\":\"\"}}}],\"scatterternary\":[{\"type\":\"scatterternary\",\"marker\":{\"colorbar\":{\"outlinewidth\":0,\"ticks\":\"\"}}}],\"scattercarpet\":[{\"type\":\"scattercarpet\",\"marker\":{\"colorbar\":{\"outlinewidth\":0,\"ticks\":\"\"}}}],\"carpet\":[{\"aaxis\":{\"endlinecolor\":\"#2a3f5f\",\"gridcolor\":\"white\",\"linecolor\":\"white\",\"minorgridcolor\":\"white\",\"startlinecolor\":\"#2a3f5f\"},\"baxis\":{\"endlinecolor\":\"#2a3f5f\",\"gridcolor\":\"white\",\"linecolor\":\"white\",\"minorgridcolor\":\"white\",\"startlinecolor\":\"#2a3f5f\"},\"type\":\"carpet\"}],\"table\":[{\"cells\":{\"fill\":{\"color\":\"#EBF0F8\"},\"line\":{\"color\":\"white\"}},\"header\":{\"fill\":{\"color\":\"#C8D4E3\"},\"line\":{\"color\":\"white\"}},\"type\":\"table\"}],\"barpolar\":[{\"marker\":{\"line\":{\"color\":\"#E5ECF6\",\"width\":0.5},\"pattern\":{\"fillmode\":\"overlay\",\"size\":10,\"solidity\":0.2}},\"type\":\"barpolar\"}],\"pie\":[{\"automargin\":true,\"type\":\"pie\"}]},\"layout\":{\"autotypenumbers\":\"strict\",\"colorway\":[\"#636efa\",\"#EF553B\",\"#00cc96\",\"#ab63fa\",\"#FFA15A\",\"#19d3f3\",\"#FF6692\",\"#B6E880\",\"#FF97FF\",\"#FECB52\"],\"font\":{\"color\":\"#2a3f5f\"},\"hovermode\":\"closest\",\"hoverlabel\":{\"align\":\"left\"},\"paper_bgcolor\":\"white\",\"plot_bgcolor\":\"#E5ECF6\",\"polar\":{\"bgcolor\":\"#E5ECF6\",\"angularaxis\":{\"gridcolor\":\"white\",\"linecolor\":\"white\",\"ticks\":\"\"},\"radialaxis\":{\"gridcolor\":\"white\",\"linecolor\":\"white\",\"ticks\":\"\"}},\"ternary\":{\"bgcolor\":\"#E5ECF6\",\"aaxis\":{\"gridcolor\":\"white\",\"linecolor\":\"white\",\"ticks\":\"\"},\"baxis\":{\"gridcolor\":\"white\",\"linecolor\":\"white\",\"ticks\":\"\"},\"caxis\":{\"gridcolor\":\"white\",\"linecolor\":\"white\",\"ticks\":\"\"}},\"coloraxis\":{\"colorbar\":{\"outlinewidth\":0,\"ticks\":\"\"}},\"colorscale\":{\"sequential\":[[0.0,\"#0d0887\"],[0.1111111111111111,\"#46039f\"],[0.2222222222222222,\"#7201a8\"],[0.3333333333333333,\"#9c179e\"],[0.4444444444444444,\"#bd3786\"],[0.5555555555555556,\"#d8576b\"],[0.6666666666666666,\"#ed7953\"],[0.7777777777777778,\"#fb9f3a\"],[0.8888888888888888,\"#fdca26\"],[1.0,\"#f0f921\"]],\"sequentialminus\":[[0.0,\"#0d0887\"],[0.1111111111111111,\"#46039f\"],[0.2222222222222222,\"#7201a8\"],[0.3333333333333333,\"#9c179e\"],[0.4444444444444444,\"#bd3786\"],[0.5555555555555556,\"#d8576b\"],[0.6666666666666666,\"#ed7953\"],[0.7777777777777778,\"#fb9f3a\"],[0.8888888888888888,\"#fdca26\"],[1.0,\"#f0f921\"]],\"diverging\":[[0,\"#8e0152\"],[0.1,\"#c51b7d\"],[0.2,\"#de77ae\"],[0.3,\"#f1b6da\"],[0.4,\"#fde0ef\"],[0.5,\"#f7f7f7\"],[0.6,\"#e6f5d0\"],[0.7,\"#b8e186\"],[0.8,\"#7fbc41\"],[0.9,\"#4d9221\"],[1,\"#276419\"]]},\"xaxis\":{\"gridcolor\":\"white\",\"linecolor\":\"white\",\"ticks\":\"\",\"title\":{\"standoff\":15},\"zerolinecolor\":\"white\",\"automargin\":true,\"zerolinewidth\":2},\"yaxis\":{\"gridcolor\":\"white\",\"linecolor\":\"white\",\"ticks\":\"\",\"title\":{\"standoff\":15},\"zerolinecolor\":\"white\",\"automargin\":true,\"zerolinewidth\":2},\"scene\":{\"xaxis\":{\"backgroundcolor\":\"#E5ECF6\",\"gridcolor\":\"white\",\"linecolor\":\"white\",\"showbackground\":true,\"ticks\":\"\",\"zerolinecolor\":\"white\",\"gridwidth\":2},\"yaxis\":{\"backgroundcolor\":\"#E5ECF6\",\"gridcolor\":\"white\",\"linecolor\":\"white\",\"showbackground\":true,\"ticks\":\"\",\"zerolinecolor\":\"white\",\"gridwidth\":2},\"zaxis\":{\"backgroundcolor\":\"#E5ECF6\",\"gridcolor\":\"white\",\"linecolor\":\"white\",\"showbackground\":true,\"ticks\":\"\",\"zerolinecolor\":\"white\",\"gridwidth\":2}},\"shapedefaults\":{\"line\":{\"color\":\"#2a3f5f\"}},\"annotationdefaults\":{\"arrowcolor\":\"#2a3f5f\",\"arrowhead\":0,\"arrowwidth\":1},\"geo\":{\"bgcolor\":\"white\",\"landcolor\":\"#E5ECF6\",\"subunitcolor\":\"white\",\"showland\":true,\"showlakes\":true,\"lakecolor\":\"white\"},\"title\":{\"x\":0.05},\"mapbox\":{\"style\":\"light\"}}},\"scene\":{\"domain\":{\"x\":[0.0,1.0],\"y\":[0.0,1.0]},\"xaxis\":{\"title\":{\"text\":\"feature1\"}},\"yaxis\":{\"title\":{\"text\":\"feature2\"}},\"zaxis\":{\"title\":{\"text\":\"target\"}}},\"legend\":{\"tracegroupgap\":0},\"margin\":{\"t\":60}},                        {\"responsive\": true}                    ).then(function(){\n",
       "                            \n",
       "var gd = document.getElementById('a97d4d1b-3d45-4d1e-bfd7-13301d0c59a2');\n",
       "var x = new MutationObserver(function (mutations, observer) {{\n",
       "        var display = window.getComputedStyle(gd).display;\n",
       "        if (!display || display === 'none') {{\n",
       "            console.log([gd, 'removed!']);\n",
       "            Plotly.purge(gd);\n",
       "            observer.disconnect();\n",
       "        }}\n",
       "}});\n",
       "\n",
       "// Listen for the removal of the full notebook cells\n",
       "var notebookContainer = gd.closest('#notebook-container');\n",
       "if (notebookContainer) {{\n",
       "    x.observe(notebookContainer, {childList: true});\n",
       "}}\n",
       "\n",
       "// Listen for the clearing of the current output cell\n",
       "var outputEl = gd.closest('.output');\n",
       "if (outputEl) {{\n",
       "    x.observe(outputEl, {childList: true});\n",
       "}}\n",
       "\n",
       "                        })                };                });            </script>        </div>"
      ]
     },
     "metadata": {},
     "output_type": "display_data"
    }
   ],
   "source": [
    "fig.show()"
   ]
  },
  {
   "cell_type": "code",
   "execution_count": 12,
   "id": "d971bf9c-3ad6-4120-9fa5-39ee0428821a",
   "metadata": {},
   "outputs": [],
   "source": [
    "from sklearn.model_selection import train_test_split\n",
    "x_train,x_test,y_train,y_test = train_test_split(x,y,test_size=0.2,random_state=3)"
   ]
  },
  {
   "cell_type": "code",
   "execution_count": 16,
   "id": "8f2f4edd-cc01-4104-93ce-bbe55bac30c8",
   "metadata": {},
   "outputs": [],
   "source": [
    "from sklearn.linear_model import LinearRegression"
   ]
  },
  {
   "cell_type": "code",
   "execution_count": 17,
   "id": "35ec10f7-c192-4790-8282-197918c3ae09",
   "metadata": {},
   "outputs": [],
   "source": [
    "lr =LinearRegression()\n"
   ]
  },
  {
   "cell_type": "code",
   "execution_count": 18,
   "id": "4395209f-99eb-4df7-9b82-fad22793dce7",
   "metadata": {},
   "outputs": [
    {
     "data": {
      "text/html": [
       "<style>#sk-container-id-1 {\n",
       "  /* Definition of color scheme common for light and dark mode */\n",
       "  --sklearn-color-text: #000;\n",
       "  --sklearn-color-text-muted: #666;\n",
       "  --sklearn-color-line: gray;\n",
       "  /* Definition of color scheme for unfitted estimators */\n",
       "  --sklearn-color-unfitted-level-0: #fff5e6;\n",
       "  --sklearn-color-unfitted-level-1: #f6e4d2;\n",
       "  --sklearn-color-unfitted-level-2: #ffe0b3;\n",
       "  --sklearn-color-unfitted-level-3: chocolate;\n",
       "  /* Definition of color scheme for fitted estimators */\n",
       "  --sklearn-color-fitted-level-0: #f0f8ff;\n",
       "  --sklearn-color-fitted-level-1: #d4ebff;\n",
       "  --sklearn-color-fitted-level-2: #b3dbfd;\n",
       "  --sklearn-color-fitted-level-3: cornflowerblue;\n",
       "\n",
       "  /* Specific color for light theme */\n",
       "  --sklearn-color-text-on-default-background: var(--sg-text-color, var(--theme-code-foreground, var(--jp-content-font-color1, black)));\n",
       "  --sklearn-color-background: var(--sg-background-color, var(--theme-background, var(--jp-layout-color0, white)));\n",
       "  --sklearn-color-border-box: var(--sg-text-color, var(--theme-code-foreground, var(--jp-content-font-color1, black)));\n",
       "  --sklearn-color-icon: #696969;\n",
       "\n",
       "  @media (prefers-color-scheme: dark) {\n",
       "    /* Redefinition of color scheme for dark theme */\n",
       "    --sklearn-color-text-on-default-background: var(--sg-text-color, var(--theme-code-foreground, var(--jp-content-font-color1, white)));\n",
       "    --sklearn-color-background: var(--sg-background-color, var(--theme-background, var(--jp-layout-color0, #111)));\n",
       "    --sklearn-color-border-box: var(--sg-text-color, var(--theme-code-foreground, var(--jp-content-font-color1, white)));\n",
       "    --sklearn-color-icon: #878787;\n",
       "  }\n",
       "}\n",
       "\n",
       "#sk-container-id-1 {\n",
       "  color: var(--sklearn-color-text);\n",
       "}\n",
       "\n",
       "#sk-container-id-1 pre {\n",
       "  padding: 0;\n",
       "}\n",
       "\n",
       "#sk-container-id-1 input.sk-hidden--visually {\n",
       "  border: 0;\n",
       "  clip: rect(1px 1px 1px 1px);\n",
       "  clip: rect(1px, 1px, 1px, 1px);\n",
       "  height: 1px;\n",
       "  margin: -1px;\n",
       "  overflow: hidden;\n",
       "  padding: 0;\n",
       "  position: absolute;\n",
       "  width: 1px;\n",
       "}\n",
       "\n",
       "#sk-container-id-1 div.sk-dashed-wrapped {\n",
       "  border: 1px dashed var(--sklearn-color-line);\n",
       "  margin: 0 0.4em 0.5em 0.4em;\n",
       "  box-sizing: border-box;\n",
       "  padding-bottom: 0.4em;\n",
       "  background-color: var(--sklearn-color-background);\n",
       "}\n",
       "\n",
       "#sk-container-id-1 div.sk-container {\n",
       "  /* jupyter's `normalize.less` sets `[hidden] { display: none; }`\n",
       "     but bootstrap.min.css set `[hidden] { display: none !important; }`\n",
       "     so we also need the `!important` here to be able to override the\n",
       "     default hidden behavior on the sphinx rendered scikit-learn.org.\n",
       "     See: https://github.com/scikit-learn/scikit-learn/issues/21755 */\n",
       "  display: inline-block !important;\n",
       "  position: relative;\n",
       "}\n",
       "\n",
       "#sk-container-id-1 div.sk-text-repr-fallback {\n",
       "  display: none;\n",
       "}\n",
       "\n",
       "div.sk-parallel-item,\n",
       "div.sk-serial,\n",
       "div.sk-item {\n",
       "  /* draw centered vertical line to link estimators */\n",
       "  background-image: linear-gradient(var(--sklearn-color-text-on-default-background), var(--sklearn-color-text-on-default-background));\n",
       "  background-size: 2px 100%;\n",
       "  background-repeat: no-repeat;\n",
       "  background-position: center center;\n",
       "}\n",
       "\n",
       "/* Parallel-specific style estimator block */\n",
       "\n",
       "#sk-container-id-1 div.sk-parallel-item::after {\n",
       "  content: \"\";\n",
       "  width: 100%;\n",
       "  border-bottom: 2px solid var(--sklearn-color-text-on-default-background);\n",
       "  flex-grow: 1;\n",
       "}\n",
       "\n",
       "#sk-container-id-1 div.sk-parallel {\n",
       "  display: flex;\n",
       "  align-items: stretch;\n",
       "  justify-content: center;\n",
       "  background-color: var(--sklearn-color-background);\n",
       "  position: relative;\n",
       "}\n",
       "\n",
       "#sk-container-id-1 div.sk-parallel-item {\n",
       "  display: flex;\n",
       "  flex-direction: column;\n",
       "}\n",
       "\n",
       "#sk-container-id-1 div.sk-parallel-item:first-child::after {\n",
       "  align-self: flex-end;\n",
       "  width: 50%;\n",
       "}\n",
       "\n",
       "#sk-container-id-1 div.sk-parallel-item:last-child::after {\n",
       "  align-self: flex-start;\n",
       "  width: 50%;\n",
       "}\n",
       "\n",
       "#sk-container-id-1 div.sk-parallel-item:only-child::after {\n",
       "  width: 0;\n",
       "}\n",
       "\n",
       "/* Serial-specific style estimator block */\n",
       "\n",
       "#sk-container-id-1 div.sk-serial {\n",
       "  display: flex;\n",
       "  flex-direction: column;\n",
       "  align-items: center;\n",
       "  background-color: var(--sklearn-color-background);\n",
       "  padding-right: 1em;\n",
       "  padding-left: 1em;\n",
       "}\n",
       "\n",
       "\n",
       "/* Toggleable style: style used for estimator/Pipeline/ColumnTransformer box that is\n",
       "clickable and can be expanded/collapsed.\n",
       "- Pipeline and ColumnTransformer use this feature and define the default style\n",
       "- Estimators will overwrite some part of the style using the `sk-estimator` class\n",
       "*/\n",
       "\n",
       "/* Pipeline and ColumnTransformer style (default) */\n",
       "\n",
       "#sk-container-id-1 div.sk-toggleable {\n",
       "  /* Default theme specific background. It is overwritten whether we have a\n",
       "  specific estimator or a Pipeline/ColumnTransformer */\n",
       "  background-color: var(--sklearn-color-background);\n",
       "}\n",
       "\n",
       "/* Toggleable label */\n",
       "#sk-container-id-1 label.sk-toggleable__label {\n",
       "  cursor: pointer;\n",
       "  display: flex;\n",
       "  width: 100%;\n",
       "  margin-bottom: 0;\n",
       "  padding: 0.5em;\n",
       "  box-sizing: border-box;\n",
       "  text-align: center;\n",
       "  align-items: start;\n",
       "  justify-content: space-between;\n",
       "  gap: 0.5em;\n",
       "}\n",
       "\n",
       "#sk-container-id-1 label.sk-toggleable__label .caption {\n",
       "  font-size: 0.6rem;\n",
       "  font-weight: lighter;\n",
       "  color: var(--sklearn-color-text-muted);\n",
       "}\n",
       "\n",
       "#sk-container-id-1 label.sk-toggleable__label-arrow:before {\n",
       "  /* Arrow on the left of the label */\n",
       "  content: \"▸\";\n",
       "  float: left;\n",
       "  margin-right: 0.25em;\n",
       "  color: var(--sklearn-color-icon);\n",
       "}\n",
       "\n",
       "#sk-container-id-1 label.sk-toggleable__label-arrow:hover:before {\n",
       "  color: var(--sklearn-color-text);\n",
       "}\n",
       "\n",
       "/* Toggleable content - dropdown */\n",
       "\n",
       "#sk-container-id-1 div.sk-toggleable__content {\n",
       "  max-height: 0;\n",
       "  max-width: 0;\n",
       "  overflow: hidden;\n",
       "  text-align: left;\n",
       "  /* unfitted */\n",
       "  background-color: var(--sklearn-color-unfitted-level-0);\n",
       "}\n",
       "\n",
       "#sk-container-id-1 div.sk-toggleable__content.fitted {\n",
       "  /* fitted */\n",
       "  background-color: var(--sklearn-color-fitted-level-0);\n",
       "}\n",
       "\n",
       "#sk-container-id-1 div.sk-toggleable__content pre {\n",
       "  margin: 0.2em;\n",
       "  border-radius: 0.25em;\n",
       "  color: var(--sklearn-color-text);\n",
       "  /* unfitted */\n",
       "  background-color: var(--sklearn-color-unfitted-level-0);\n",
       "}\n",
       "\n",
       "#sk-container-id-1 div.sk-toggleable__content.fitted pre {\n",
       "  /* unfitted */\n",
       "  background-color: var(--sklearn-color-fitted-level-0);\n",
       "}\n",
       "\n",
       "#sk-container-id-1 input.sk-toggleable__control:checked~div.sk-toggleable__content {\n",
       "  /* Expand drop-down */\n",
       "  max-height: 200px;\n",
       "  max-width: 100%;\n",
       "  overflow: auto;\n",
       "}\n",
       "\n",
       "#sk-container-id-1 input.sk-toggleable__control:checked~label.sk-toggleable__label-arrow:before {\n",
       "  content: \"▾\";\n",
       "}\n",
       "\n",
       "/* Pipeline/ColumnTransformer-specific style */\n",
       "\n",
       "#sk-container-id-1 div.sk-label input.sk-toggleable__control:checked~label.sk-toggleable__label {\n",
       "  color: var(--sklearn-color-text);\n",
       "  background-color: var(--sklearn-color-unfitted-level-2);\n",
       "}\n",
       "\n",
       "#sk-container-id-1 div.sk-label.fitted input.sk-toggleable__control:checked~label.sk-toggleable__label {\n",
       "  background-color: var(--sklearn-color-fitted-level-2);\n",
       "}\n",
       "\n",
       "/* Estimator-specific style */\n",
       "\n",
       "/* Colorize estimator box */\n",
       "#sk-container-id-1 div.sk-estimator input.sk-toggleable__control:checked~label.sk-toggleable__label {\n",
       "  /* unfitted */\n",
       "  background-color: var(--sklearn-color-unfitted-level-2);\n",
       "}\n",
       "\n",
       "#sk-container-id-1 div.sk-estimator.fitted input.sk-toggleable__control:checked~label.sk-toggleable__label {\n",
       "  /* fitted */\n",
       "  background-color: var(--sklearn-color-fitted-level-2);\n",
       "}\n",
       "\n",
       "#sk-container-id-1 div.sk-label label.sk-toggleable__label,\n",
       "#sk-container-id-1 div.sk-label label {\n",
       "  /* The background is the default theme color */\n",
       "  color: var(--sklearn-color-text-on-default-background);\n",
       "}\n",
       "\n",
       "/* On hover, darken the color of the background */\n",
       "#sk-container-id-1 div.sk-label:hover label.sk-toggleable__label {\n",
       "  color: var(--sklearn-color-text);\n",
       "  background-color: var(--sklearn-color-unfitted-level-2);\n",
       "}\n",
       "\n",
       "/* Label box, darken color on hover, fitted */\n",
       "#sk-container-id-1 div.sk-label.fitted:hover label.sk-toggleable__label.fitted {\n",
       "  color: var(--sklearn-color-text);\n",
       "  background-color: var(--sklearn-color-fitted-level-2);\n",
       "}\n",
       "\n",
       "/* Estimator label */\n",
       "\n",
       "#sk-container-id-1 div.sk-label label {\n",
       "  font-family: monospace;\n",
       "  font-weight: bold;\n",
       "  display: inline-block;\n",
       "  line-height: 1.2em;\n",
       "}\n",
       "\n",
       "#sk-container-id-1 div.sk-label-container {\n",
       "  text-align: center;\n",
       "}\n",
       "\n",
       "/* Estimator-specific */\n",
       "#sk-container-id-1 div.sk-estimator {\n",
       "  font-family: monospace;\n",
       "  border: 1px dotted var(--sklearn-color-border-box);\n",
       "  border-radius: 0.25em;\n",
       "  box-sizing: border-box;\n",
       "  margin-bottom: 0.5em;\n",
       "  /* unfitted */\n",
       "  background-color: var(--sklearn-color-unfitted-level-0);\n",
       "}\n",
       "\n",
       "#sk-container-id-1 div.sk-estimator.fitted {\n",
       "  /* fitted */\n",
       "  background-color: var(--sklearn-color-fitted-level-0);\n",
       "}\n",
       "\n",
       "/* on hover */\n",
       "#sk-container-id-1 div.sk-estimator:hover {\n",
       "  /* unfitted */\n",
       "  background-color: var(--sklearn-color-unfitted-level-2);\n",
       "}\n",
       "\n",
       "#sk-container-id-1 div.sk-estimator.fitted:hover {\n",
       "  /* fitted */\n",
       "  background-color: var(--sklearn-color-fitted-level-2);\n",
       "}\n",
       "\n",
       "/* Specification for estimator info (e.g. \"i\" and \"?\") */\n",
       "\n",
       "/* Common style for \"i\" and \"?\" */\n",
       "\n",
       ".sk-estimator-doc-link,\n",
       "a:link.sk-estimator-doc-link,\n",
       "a:visited.sk-estimator-doc-link {\n",
       "  float: right;\n",
       "  font-size: smaller;\n",
       "  line-height: 1em;\n",
       "  font-family: monospace;\n",
       "  background-color: var(--sklearn-color-background);\n",
       "  border-radius: 1em;\n",
       "  height: 1em;\n",
       "  width: 1em;\n",
       "  text-decoration: none !important;\n",
       "  margin-left: 0.5em;\n",
       "  text-align: center;\n",
       "  /* unfitted */\n",
       "  border: var(--sklearn-color-unfitted-level-1) 1pt solid;\n",
       "  color: var(--sklearn-color-unfitted-level-1);\n",
       "}\n",
       "\n",
       ".sk-estimator-doc-link.fitted,\n",
       "a:link.sk-estimator-doc-link.fitted,\n",
       "a:visited.sk-estimator-doc-link.fitted {\n",
       "  /* fitted */\n",
       "  border: var(--sklearn-color-fitted-level-1) 1pt solid;\n",
       "  color: var(--sklearn-color-fitted-level-1);\n",
       "}\n",
       "\n",
       "/* On hover */\n",
       "div.sk-estimator:hover .sk-estimator-doc-link:hover,\n",
       ".sk-estimator-doc-link:hover,\n",
       "div.sk-label-container:hover .sk-estimator-doc-link:hover,\n",
       ".sk-estimator-doc-link:hover {\n",
       "  /* unfitted */\n",
       "  background-color: var(--sklearn-color-unfitted-level-3);\n",
       "  color: var(--sklearn-color-background);\n",
       "  text-decoration: none;\n",
       "}\n",
       "\n",
       "div.sk-estimator.fitted:hover .sk-estimator-doc-link.fitted:hover,\n",
       ".sk-estimator-doc-link.fitted:hover,\n",
       "div.sk-label-container:hover .sk-estimator-doc-link.fitted:hover,\n",
       ".sk-estimator-doc-link.fitted:hover {\n",
       "  /* fitted */\n",
       "  background-color: var(--sklearn-color-fitted-level-3);\n",
       "  color: var(--sklearn-color-background);\n",
       "  text-decoration: none;\n",
       "}\n",
       "\n",
       "/* Span, style for the box shown on hovering the info icon */\n",
       ".sk-estimator-doc-link span {\n",
       "  display: none;\n",
       "  z-index: 9999;\n",
       "  position: relative;\n",
       "  font-weight: normal;\n",
       "  right: .2ex;\n",
       "  padding: .5ex;\n",
       "  margin: .5ex;\n",
       "  width: min-content;\n",
       "  min-width: 20ex;\n",
       "  max-width: 50ex;\n",
       "  color: var(--sklearn-color-text);\n",
       "  box-shadow: 2pt 2pt 4pt #999;\n",
       "  /* unfitted */\n",
       "  background: var(--sklearn-color-unfitted-level-0);\n",
       "  border: .5pt solid var(--sklearn-color-unfitted-level-3);\n",
       "}\n",
       "\n",
       ".sk-estimator-doc-link.fitted span {\n",
       "  /* fitted */\n",
       "  background: var(--sklearn-color-fitted-level-0);\n",
       "  border: var(--sklearn-color-fitted-level-3);\n",
       "}\n",
       "\n",
       ".sk-estimator-doc-link:hover span {\n",
       "  display: block;\n",
       "}\n",
       "\n",
       "/* \"?\"-specific style due to the `<a>` HTML tag */\n",
       "\n",
       "#sk-container-id-1 a.estimator_doc_link {\n",
       "  float: right;\n",
       "  font-size: 1rem;\n",
       "  line-height: 1em;\n",
       "  font-family: monospace;\n",
       "  background-color: var(--sklearn-color-background);\n",
       "  border-radius: 1rem;\n",
       "  height: 1rem;\n",
       "  width: 1rem;\n",
       "  text-decoration: none;\n",
       "  /* unfitted */\n",
       "  color: var(--sklearn-color-unfitted-level-1);\n",
       "  border: var(--sklearn-color-unfitted-level-1) 1pt solid;\n",
       "}\n",
       "\n",
       "#sk-container-id-1 a.estimator_doc_link.fitted {\n",
       "  /* fitted */\n",
       "  border: var(--sklearn-color-fitted-level-1) 1pt solid;\n",
       "  color: var(--sklearn-color-fitted-level-1);\n",
       "}\n",
       "\n",
       "/* On hover */\n",
       "#sk-container-id-1 a.estimator_doc_link:hover {\n",
       "  /* unfitted */\n",
       "  background-color: var(--sklearn-color-unfitted-level-3);\n",
       "  color: var(--sklearn-color-background);\n",
       "  text-decoration: none;\n",
       "}\n",
       "\n",
       "#sk-container-id-1 a.estimator_doc_link.fitted:hover {\n",
       "  /* fitted */\n",
       "  background-color: var(--sklearn-color-fitted-level-3);\n",
       "}\n",
       "</style><div id=\"sk-container-id-1\" class=\"sk-top-container\"><div class=\"sk-text-repr-fallback\"><pre>LinearRegression()</pre><b>In a Jupyter environment, please rerun this cell to show the HTML representation or trust the notebook. <br />On GitHub, the HTML representation is unable to render, please try loading this page with nbviewer.org.</b></div><div class=\"sk-container\" hidden><div class=\"sk-item\"><div class=\"sk-estimator fitted sk-toggleable\"><input class=\"sk-toggleable__control sk-hidden--visually\" id=\"sk-estimator-id-1\" type=\"checkbox\" checked><label for=\"sk-estimator-id-1\" class=\"sk-toggleable__label fitted sk-toggleable__label-arrow\"><div><div>LinearRegression</div></div><div><a class=\"sk-estimator-doc-link fitted\" rel=\"noreferrer\" target=\"_blank\" href=\"https://scikit-learn.org/1.6/modules/generated/sklearn.linear_model.LinearRegression.html\">?<span>Documentation for LinearRegression</span></a><span class=\"sk-estimator-doc-link fitted\">i<span>Fitted</span></span></div></label><div class=\"sk-toggleable__content fitted\"><pre>LinearRegression()</pre></div> </div></div></div></div>"
      ],
      "text/plain": [
       "LinearRegression()"
      ]
     },
     "execution_count": 18,
     "metadata": {},
     "output_type": "execute_result"
    }
   ],
   "source": [
    "lr.fit(x_train,y_train)"
   ]
  },
  {
   "cell_type": "code",
   "execution_count": 19,
   "id": "720cd93d-731d-4f6f-8c53-ded69989cdd0",
   "metadata": {},
   "outputs": [],
   "source": [
    "y_pred= lr.predict(x_test)"
   ]
  },
  {
   "cell_type": "code",
   "execution_count": 27,
   "id": "6eed445f-8ca6-4e80-9838-8fdbaac73690",
   "metadata": {},
   "outputs": [],
   "source": [
    "x= np.linspace(-5,5,10)\n",
    "y= np.linspace(-5,5,10)\n",
    "xGrid, yGrid =np. meshgrid(y,x)\n",
    "grid_points = np.c_[xGrid.ravel(),yGrid.ravel()]\n",
    "z_final= lr.predict(grid_points).reshape(10,10)\n",
    "\n",
    "final= np.vstack((xGrid.ravel().reshape(1,100),yGrid.ravel().reshape(1,100))).T\n"
   ]
  },
  {
   "cell_type": "code",
   "execution_count": 34,
   "id": "264d6b62-5865-40dc-98d1-13925bd30944",
   "metadata": {},
   "outputs": [
    {
     "data": {
      "application/vnd.plotly.v1+json": {
       "config": {
        "plotlyServerURL": "https://plot.ly"
       },
       "data": [
        {
         "hovertemplate": "feature1=%{x}<br>feature2=%{y}<br>target=%{z}<extra></extra>",
         "legendgroup": "",
         "marker": {
          "color": "#636efa",
          "symbol": "circle"
         },
         "mode": "markers",
         "name": "",
         "scene": "scene",
         "showlegend": false,
         "type": "scatter3d",
         "x": [
          1.5346202827016708,
          -0.12492248322287586,
          -2.404576918628337,
          0.6443003139777574,
          1.3576772418211032,
          -0.8226789052437331,
          -0.6987461447768388,
          -1.0122621645561019,
          -1.1416352842088984,
          -0.7432553291190639,
          0.1736998013028402,
          1.0119522766660496,
          -0.8131042307203052,
          0.26906483051047475,
          0.012782069152583243,
          1.4293491019678475,
          -0.6481369762936783,
          0.1659413036040824,
          -0.40475205393342684,
          -0.5945485580371466,
          -0.6071157484265097,
          1.8882608793467226,
          -0.827312653090652,
          -1.8673656132668255,
          -0.2731430369969519,
          0.31159291976542175,
          -0.1431186808784276,
          0.32347077277196673,
          0.7103217341573523,
          -0.54851787145989,
          0.8348609592971032,
          -1.0040589723923816,
          -1.3471498709180443,
          -2.603974976164019,
          0.9576969669084949,
          0.17713963173492148,
          1.1041084381256554,
          -0.020891931002307525,
          -0.7262997223151512,
          1.200454664665966,
          -0.8307343859835482,
          0.031021009605751326,
          0.7939501174367761,
          -0.7010054699838489,
          0.15580470685540546,
          0.24038781120983302,
          0.0992367546782747,
          1.1243565161062408,
          -0.7512482379846163,
          1.7732564613067756,
          -0.34481054196905975,
          0.5755410343546087,
          1.0090615214231018,
          0.4142212492576877,
          -0.024961591477712222,
          0.2449419309107467,
          -1.0932485504000518,
          0.2735506709753171,
          -1.300512330930583,
          0.7247774199301973,
          0.8210011425119353,
          0.5289062623653241,
          -0.8299004328812967,
          0.20989069546988595,
          0.18387936432592128,
          1.0816174912907264,
          -0.2810083219306982,
          1.3498247470366094,
          -0.1865237785457901,
          -0.8962121162050504,
          -0.5396251197548244,
          1.010070006204098,
          0.5586622461825677,
          -0.7059084458823092,
          2.1283320262162877,
          -0.9558244566208961,
          0.9080890612543172,
          0.7984743105777551,
          2.3621788278739917,
          0.009188560829853943,
          -0.38754286102566304,
          1.8365083085815377,
          -1.7383445853681145,
          -0.08603018450520523,
          -1.2168128423339726,
          0.08106592497822868,
          -0.7965053887539961,
          -0.8196366247667902,
          1.0185187636722408,
          0.7642928760881488,
          -1.5127181948696293,
          -0.6588635388679935,
          0.008771103572695541,
          -1.8260962359263901,
          -0.13634257603774766,
          1.0070583274580693,
          -0.17080075767175873,
          0.5973218762583591,
          1.4375845854164195,
          0.25442264074131793
         ],
         "y": [
          -0.6414790364742582,
          0.5559384443277905,
          -0.6455983669048243,
          0.49265684267587234,
          0.3981324608975986,
          1.665046573043473,
          -0.6543826078335235,
          -1.081647749907432,
          -0.9493496802929351,
          0.12035629912261131,
          0.5511274250674761,
          0.48298163971279606,
          -0.2800099943155198,
          0.6028408343975815,
          0.577527377202087,
          1.3532274652880514,
          0.7882793516930604,
          -0.21454004374868857,
          1.8328811289877585,
          0.8509323862960512,
          -0.616285483243706,
          -2.3866496068756757,
          1.269535838434565,
          0.6663700892348073,
          -0.3711712000788504,
          -0.2958035223535677,
          -1.0138199136063122,
          1.6802963493674028,
          0.12464721482237862,
          -0.7459577042455695,
          0.5344563567358208,
          -1.382110757352944,
          0.6609128602053183,
          0.7063774746986782,
          -0.03812406065048252,
          -0.09156314561650321,
          -0.06634217845439898,
          -0.2711890651661418,
          0.15979711186623566,
          2.251871048232685,
          -1.7741435699009236,
          1.6553181299625987,
          -2.4042414873102445,
          0.01281039438554717,
          -0.6020939240194395,
          1.1721271893372343,
          0.028803563560499183,
          0.7799122617619447,
          0.6675636646591847,
          1.7333232442695479,
          0.3018769730527696,
          -0.7951741736549638,
          -0.28341062263859884,
          1.3053033865384873,
          0.16406459519655794,
          1.1196187348806734,
          0.5856135109595906,
          0.4127279291540881,
          -1.0124468358533485,
          0.36831148195409363,
          0.13975394716269485,
          0.32361711967945195,
          -0.3212274204989989,
          0.5721639486006646,
          -0.6970897581064387,
          -1.604640275813219,
          0.13723612248076256,
          -0.306918000245214,
          -0.0206729492596697,
          0.8615479214022356,
          -0.4602596449595264,
          -0.5264002468073011,
          0.9688058003874788,
          -0.2893839466747637,
          -1.0236286360885207,
          -0.8779204447669812,
          0.19138932281191007,
          0.18979137028966467,
          -0.02565272896604744,
          1.2169552598353144,
          1.2635383537720826,
          1.3225993931685898,
          -0.3734365062086953,
          0.6341812295259461,
          0.23486943290270726,
          -0.3901410431278472,
          -0.9042392139205073,
          -0.1380612478096935,
          -0.2677368425415466,
          0.3543084325269339,
          0.2639709674153078,
          -0.6477477391467733,
          1.1359797839200867,
          0.2240946036706851,
          -0.17393890665359105,
          1.3566599136484887,
          -1.2538014737738843,
          0.017591282045067436,
          -0.7320892512279052,
          1.1382223636672844
         ],
         "z": [
          178.47193214966393,
          118.32477854190877,
          -238.09495517472328,
          71.03599897099954,
          152.39585580266132,
          84.75761168793464,
          -64.10941473206194,
          -213.98292093832495,
          -209.15376431516387,
          -21.238345934783098,
          142.8421919979836,
          111.95565037288591,
          -113.67664722145099,
          60.86683225431206,
          39.64734522426472,
          215.56591435241077,
          56.36838528931469,
          16.454826192447968,
          98.27154749879665,
          -6.517668209096081,
          -127.47286990043592,
          32.02094342175415,
          89.04159475506977,
          -188.99058447110022,
          -82.88103820402803,
          28.219226654319005,
          -98.72555074953371,
          147.29814172468826,
          50.940499597769275,
          -128.2080370082767,
          122.6014143970463,
          -198.72909017328885,
          -151.80678285080927,
          -120.74363359441548,
          159.40601709917271,
          5.9069818543257195,
          63.575195520391716,
          -48.04649341799802,
          -100.1545284815814,
          306.6392086431318,
          -117.67120958483589,
          102.66180833400209,
          -82.53217267512191,
          -99.35364737905377,
          -85.88960861564131,
          103.89681707635954,
          45.631285660261675,
          237.3229807558378,
          -13.4330709884937,
          193.88859708372212,
          46.52630020416048,
          -26.52686705683289,
          -8.591236575502904,
          173.30083037217932,
          76.1734909400139,
          212.68393667480098,
          16.943087725754815,
          85.56876453952847,
          -280.2216827860598,
          64.56537782538203,
          169.01940267511523,
          41.95537211979961,
          -103.89010289021346,
          74.85103547430558,
          -102.48584487461851,
          -7.521879808414866,
          -0.8461063954945658,
          102.66481689527053,
          -17.60940826032695,
          -60.44822257102626,
          -71.45656378562589,
          143.7548153182603,
          107.43989538621392,
          -8.811648991885505,
          203.2308728462835,
          -147.99202403558996,
          -33.73401254153035,
          77.21159112606274,
          215.22776032894478,
          218.85225796656783,
          69.57043566487995,
          248.19646694505337,
          -138.37935228587563,
          51.74002706381085,
          -138.04355114631426,
          -17.45603179272627,
          -119.91925865193816,
          -42.01015037136287,
          39.052671973779375,
          120.42931571462888,
          -57.789717311807934,
          -164.85915393922087,
          201.51302836883667,
          -204.50452029910488,
          73.40467407326061,
          291.0995693690935,
          -173.23966581248357,
          14.105004559390018,
          138.6710335523208,
          170.3835511547881
         ]
        },
        {
         "type": "surface",
         "x": [
          -5,
          -3.888888888888889,
          -2.7777777777777777,
          -1.6666666666666665,
          -0.5555555555555554,
          0.5555555555555554,
          1.666666666666667,
          2.7777777777777786,
          3.8888888888888893,
          5
         ],
         "y": [
          -5,
          -3.888888888888889,
          -2.7777777777777777,
          -1.6666666666666665,
          -0.5555555555555554,
          0.5555555555555554,
          1.666666666666667,
          2.7777777777777786,
          3.8888888888888893,
          5
         ],
         "z": [
          [
           -856.529587290865,
           -755.7776995901814,
           -655.0258118894978,
           -554.2739241888142,
           -453.52203648813065,
           -352.77014878744717,
           -252.01826108676352,
           -151.2663733860799,
           -50.51448568539636,
           50.23740201528718
          ],
          [
           -764.7717018276516,
           -664.019814126968,
           -563.2679264262844,
           -462.5160387256008,
           -361.7641510249172,
           -261.01226332423374,
           -160.2603756235501,
           -59.50848792286647,
           41.24339977781707,
           141.9952874785006
          ],
          [
           -673.0138163644382,
           -572.2619286637546,
           -471.51004096307105,
           -370.75815326238745,
           -270.00626556170386,
           -169.25437786102034,
           -68.50249016033672,
           32.249397540346905,
           133.00128524103044,
           233.75317294171396
          ],
          [
           -581.2559309012248,
           -480.5040432005412,
           -379.7521554998576,
           -279.0002677991741,
           -178.2483800984905,
           -77.49649239780695,
           23.25539530287668,
           124.0072830035603,
           224.75917070424384,
           325.5110584049274
          ],
          [
           -489.4980454380114,
           -388.7461577373278,
           -287.99427003664425,
           -187.24238233596066,
           -86.49049463527706,
           14.261393065406466,
           115.01328076609008,
           215.7651684667737,
           316.5170561674572,
           417.26894386814075
          ],
          [
           -397.740159974798,
           -296.9882722741145,
           -196.23638457343088,
           -95.48449687274729,
           5.267390827936283,
           106.01927852861982,
           206.77116622930345,
           307.52305392998704,
           408.2749416306706,
           509.0268293313541
          ],
          [
           -305.9822745115846,
           -205.23038681090102,
           -104.47849911021743,
           -3.726611409533863,
           97.02527629114971,
           197.77716399183325,
           298.5290516925169,
           399.28093939320047,
           500.032827093884,
           600.7847147945675
          ],
          [
           -214.22438904837117,
           -113.47250134768757,
           -12.720613647003987,
           88.0312740536796,
           188.78316175436316,
           289.5350494550467,
           390.2869371557303,
           491.03882485641395,
           591.7907125570974,
           692.542600257781
          ],
          [
           -122.4665035851578,
           -21.714615884474224,
           79.03727181620937,
           179.78915951689294,
           280.54104721757653,
           381.29293491826,
           482.04482261894367,
           582.7967103196273,
           683.5485980203108,
           784.3004857209944
          ],
          [
           -30.708618121944433,
           70.04326957873914,
           170.7951572794227,
           271.5470449801063,
           372.2989326807899,
           473.0508203814734,
           573.802708082157,
           674.5545957828407,
           775.3064834835242,
           876.0583711842078
          ]
         ]
        }
       ],
       "layout": {
        "autosize": true,
        "legend": {
         "tracegroupgap": 0
        },
        "margin": {
         "t": 60
        },
        "scene": {
         "aspectmode": "auto",
         "aspectratio": {
          "x": 1,
          "y": 1,
          "z": 1
         },
         "domain": {
          "x": [
           0,
           1
          ],
          "y": [
           0,
           1
          ]
         },
         "xaxis": {
          "title": {
           "text": "feature1"
          },
          "type": "linear"
         },
         "yaxis": {
          "title": {
           "text": "feature2"
          },
          "type": "linear"
         },
         "zaxis": {
          "title": {
           "text": "target"
          },
          "type": "linear"
         }
        },
        "template": {
         "data": {
          "bar": [
           {
            "error_x": {
             "color": "#2a3f5f"
            },
            "error_y": {
             "color": "#2a3f5f"
            },
            "marker": {
             "line": {
              "color": "#E5ECF6",
              "width": 0.5
             },
             "pattern": {
              "fillmode": "overlay",
              "size": 10,
              "solidity": 0.2
             }
            },
            "type": "bar"
           }
          ],
          "barpolar": [
           {
            "marker": {
             "line": {
              "color": "#E5ECF6",
              "width": 0.5
             },
             "pattern": {
              "fillmode": "overlay",
              "size": 10,
              "solidity": 0.2
             }
            },
            "type": "barpolar"
           }
          ],
          "carpet": [
           {
            "aaxis": {
             "endlinecolor": "#2a3f5f",
             "gridcolor": "white",
             "linecolor": "white",
             "minorgridcolor": "white",
             "startlinecolor": "#2a3f5f"
            },
            "baxis": {
             "endlinecolor": "#2a3f5f",
             "gridcolor": "white",
             "linecolor": "white",
             "minorgridcolor": "white",
             "startlinecolor": "#2a3f5f"
            },
            "type": "carpet"
           }
          ],
          "choropleth": [
           {
            "colorbar": {
             "outlinewidth": 0,
             "ticks": ""
            },
            "type": "choropleth"
           }
          ],
          "contour": [
           {
            "colorbar": {
             "outlinewidth": 0,
             "ticks": ""
            },
            "colorscale": [
             [
              0,
              "#0d0887"
             ],
             [
              0.1111111111111111,
              "#46039f"
             ],
             [
              0.2222222222222222,
              "#7201a8"
             ],
             [
              0.3333333333333333,
              "#9c179e"
             ],
             [
              0.4444444444444444,
              "#bd3786"
             ],
             [
              0.5555555555555556,
              "#d8576b"
             ],
             [
              0.6666666666666666,
              "#ed7953"
             ],
             [
              0.7777777777777778,
              "#fb9f3a"
             ],
             [
              0.8888888888888888,
              "#fdca26"
             ],
             [
              1,
              "#f0f921"
             ]
            ],
            "type": "contour"
           }
          ],
          "contourcarpet": [
           {
            "colorbar": {
             "outlinewidth": 0,
             "ticks": ""
            },
            "type": "contourcarpet"
           }
          ],
          "heatmap": [
           {
            "colorbar": {
             "outlinewidth": 0,
             "ticks": ""
            },
            "colorscale": [
             [
              0,
              "#0d0887"
             ],
             [
              0.1111111111111111,
              "#46039f"
             ],
             [
              0.2222222222222222,
              "#7201a8"
             ],
             [
              0.3333333333333333,
              "#9c179e"
             ],
             [
              0.4444444444444444,
              "#bd3786"
             ],
             [
              0.5555555555555556,
              "#d8576b"
             ],
             [
              0.6666666666666666,
              "#ed7953"
             ],
             [
              0.7777777777777778,
              "#fb9f3a"
             ],
             [
              0.8888888888888888,
              "#fdca26"
             ],
             [
              1,
              "#f0f921"
             ]
            ],
            "type": "heatmap"
           }
          ],
          "heatmapgl": [
           {
            "colorbar": {
             "outlinewidth": 0,
             "ticks": ""
            },
            "colorscale": [
             [
              0,
              "#0d0887"
             ],
             [
              0.1111111111111111,
              "#46039f"
             ],
             [
              0.2222222222222222,
              "#7201a8"
             ],
             [
              0.3333333333333333,
              "#9c179e"
             ],
             [
              0.4444444444444444,
              "#bd3786"
             ],
             [
              0.5555555555555556,
              "#d8576b"
             ],
             [
              0.6666666666666666,
              "#ed7953"
             ],
             [
              0.7777777777777778,
              "#fb9f3a"
             ],
             [
              0.8888888888888888,
              "#fdca26"
             ],
             [
              1,
              "#f0f921"
             ]
            ],
            "type": "heatmapgl"
           }
          ],
          "histogram": [
           {
            "marker": {
             "pattern": {
              "fillmode": "overlay",
              "size": 10,
              "solidity": 0.2
             }
            },
            "type": "histogram"
           }
          ],
          "histogram2d": [
           {
            "colorbar": {
             "outlinewidth": 0,
             "ticks": ""
            },
            "colorscale": [
             [
              0,
              "#0d0887"
             ],
             [
              0.1111111111111111,
              "#46039f"
             ],
             [
              0.2222222222222222,
              "#7201a8"
             ],
             [
              0.3333333333333333,
              "#9c179e"
             ],
             [
              0.4444444444444444,
              "#bd3786"
             ],
             [
              0.5555555555555556,
              "#d8576b"
             ],
             [
              0.6666666666666666,
              "#ed7953"
             ],
             [
              0.7777777777777778,
              "#fb9f3a"
             ],
             [
              0.8888888888888888,
              "#fdca26"
             ],
             [
              1,
              "#f0f921"
             ]
            ],
            "type": "histogram2d"
           }
          ],
          "histogram2dcontour": [
           {
            "colorbar": {
             "outlinewidth": 0,
             "ticks": ""
            },
            "colorscale": [
             [
              0,
              "#0d0887"
             ],
             [
              0.1111111111111111,
              "#46039f"
             ],
             [
              0.2222222222222222,
              "#7201a8"
             ],
             [
              0.3333333333333333,
              "#9c179e"
             ],
             [
              0.4444444444444444,
              "#bd3786"
             ],
             [
              0.5555555555555556,
              "#d8576b"
             ],
             [
              0.6666666666666666,
              "#ed7953"
             ],
             [
              0.7777777777777778,
              "#fb9f3a"
             ],
             [
              0.8888888888888888,
              "#fdca26"
             ],
             [
              1,
              "#f0f921"
             ]
            ],
            "type": "histogram2dcontour"
           }
          ],
          "mesh3d": [
           {
            "colorbar": {
             "outlinewidth": 0,
             "ticks": ""
            },
            "type": "mesh3d"
           }
          ],
          "parcoords": [
           {
            "line": {
             "colorbar": {
              "outlinewidth": 0,
              "ticks": ""
             }
            },
            "type": "parcoords"
           }
          ],
          "pie": [
           {
            "automargin": true,
            "type": "pie"
           }
          ],
          "scatter": [
           {
            "fillpattern": {
             "fillmode": "overlay",
             "size": 10,
             "solidity": 0.2
            },
            "type": "scatter"
           }
          ],
          "scatter3d": [
           {
            "line": {
             "colorbar": {
              "outlinewidth": 0,
              "ticks": ""
             }
            },
            "marker": {
             "colorbar": {
              "outlinewidth": 0,
              "ticks": ""
             }
            },
            "type": "scatter3d"
           }
          ],
          "scattercarpet": [
           {
            "marker": {
             "colorbar": {
              "outlinewidth": 0,
              "ticks": ""
             }
            },
            "type": "scattercarpet"
           }
          ],
          "scattergeo": [
           {
            "marker": {
             "colorbar": {
              "outlinewidth": 0,
              "ticks": ""
             }
            },
            "type": "scattergeo"
           }
          ],
          "scattergl": [
           {
            "marker": {
             "colorbar": {
              "outlinewidth": 0,
              "ticks": ""
             }
            },
            "type": "scattergl"
           }
          ],
          "scattermapbox": [
           {
            "marker": {
             "colorbar": {
              "outlinewidth": 0,
              "ticks": ""
             }
            },
            "type": "scattermapbox"
           }
          ],
          "scatterpolar": [
           {
            "marker": {
             "colorbar": {
              "outlinewidth": 0,
              "ticks": ""
             }
            },
            "type": "scatterpolar"
           }
          ],
          "scatterpolargl": [
           {
            "marker": {
             "colorbar": {
              "outlinewidth": 0,
              "ticks": ""
             }
            },
            "type": "scatterpolargl"
           }
          ],
          "scatterternary": [
           {
            "marker": {
             "colorbar": {
              "outlinewidth": 0,
              "ticks": ""
             }
            },
            "type": "scatterternary"
           }
          ],
          "surface": [
           {
            "colorbar": {
             "outlinewidth": 0,
             "ticks": ""
            },
            "colorscale": [
             [
              0,
              "#0d0887"
             ],
             [
              0.1111111111111111,
              "#46039f"
             ],
             [
              0.2222222222222222,
              "#7201a8"
             ],
             [
              0.3333333333333333,
              "#9c179e"
             ],
             [
              0.4444444444444444,
              "#bd3786"
             ],
             [
              0.5555555555555556,
              "#d8576b"
             ],
             [
              0.6666666666666666,
              "#ed7953"
             ],
             [
              0.7777777777777778,
              "#fb9f3a"
             ],
             [
              0.8888888888888888,
              "#fdca26"
             ],
             [
              1,
              "#f0f921"
             ]
            ],
            "type": "surface"
           }
          ],
          "table": [
           {
            "cells": {
             "fill": {
              "color": "#EBF0F8"
             },
             "line": {
              "color": "white"
             }
            },
            "header": {
             "fill": {
              "color": "#C8D4E3"
             },
             "line": {
              "color": "white"
             }
            },
            "type": "table"
           }
          ]
         },
         "layout": {
          "annotationdefaults": {
           "arrowcolor": "#2a3f5f",
           "arrowhead": 0,
           "arrowwidth": 1
          },
          "autotypenumbers": "strict",
          "coloraxis": {
           "colorbar": {
            "outlinewidth": 0,
            "ticks": ""
           }
          },
          "colorscale": {
           "diverging": [
            [
             0,
             "#8e0152"
            ],
            [
             0.1,
             "#c51b7d"
            ],
            [
             0.2,
             "#de77ae"
            ],
            [
             0.3,
             "#f1b6da"
            ],
            [
             0.4,
             "#fde0ef"
            ],
            [
             0.5,
             "#f7f7f7"
            ],
            [
             0.6,
             "#e6f5d0"
            ],
            [
             0.7,
             "#b8e186"
            ],
            [
             0.8,
             "#7fbc41"
            ],
            [
             0.9,
             "#4d9221"
            ],
            [
             1,
             "#276419"
            ]
           ],
           "sequential": [
            [
             0,
             "#0d0887"
            ],
            [
             0.1111111111111111,
             "#46039f"
            ],
            [
             0.2222222222222222,
             "#7201a8"
            ],
            [
             0.3333333333333333,
             "#9c179e"
            ],
            [
             0.4444444444444444,
             "#bd3786"
            ],
            [
             0.5555555555555556,
             "#d8576b"
            ],
            [
             0.6666666666666666,
             "#ed7953"
            ],
            [
             0.7777777777777778,
             "#fb9f3a"
            ],
            [
             0.8888888888888888,
             "#fdca26"
            ],
            [
             1,
             "#f0f921"
            ]
           ],
           "sequentialminus": [
            [
             0,
             "#0d0887"
            ],
            [
             0.1111111111111111,
             "#46039f"
            ],
            [
             0.2222222222222222,
             "#7201a8"
            ],
            [
             0.3333333333333333,
             "#9c179e"
            ],
            [
             0.4444444444444444,
             "#bd3786"
            ],
            [
             0.5555555555555556,
             "#d8576b"
            ],
            [
             0.6666666666666666,
             "#ed7953"
            ],
            [
             0.7777777777777778,
             "#fb9f3a"
            ],
            [
             0.8888888888888888,
             "#fdca26"
            ],
            [
             1,
             "#f0f921"
            ]
           ]
          },
          "colorway": [
           "#636efa",
           "#EF553B",
           "#00cc96",
           "#ab63fa",
           "#FFA15A",
           "#19d3f3",
           "#FF6692",
           "#B6E880",
           "#FF97FF",
           "#FECB52"
          ],
          "font": {
           "color": "#2a3f5f"
          },
          "geo": {
           "bgcolor": "white",
           "lakecolor": "white",
           "landcolor": "#E5ECF6",
           "showlakes": true,
           "showland": true,
           "subunitcolor": "white"
          },
          "hoverlabel": {
           "align": "left"
          },
          "hovermode": "closest",
          "mapbox": {
           "style": "light"
          },
          "paper_bgcolor": "white",
          "plot_bgcolor": "#E5ECF6",
          "polar": {
           "angularaxis": {
            "gridcolor": "white",
            "linecolor": "white",
            "ticks": ""
           },
           "bgcolor": "#E5ECF6",
           "radialaxis": {
            "gridcolor": "white",
            "linecolor": "white",
            "ticks": ""
           }
          },
          "scene": {
           "xaxis": {
            "backgroundcolor": "#E5ECF6",
            "gridcolor": "white",
            "gridwidth": 2,
            "linecolor": "white",
            "showbackground": true,
            "ticks": "",
            "zerolinecolor": "white"
           },
           "yaxis": {
            "backgroundcolor": "#E5ECF6",
            "gridcolor": "white",
            "gridwidth": 2,
            "linecolor": "white",
            "showbackground": true,
            "ticks": "",
            "zerolinecolor": "white"
           },
           "zaxis": {
            "backgroundcolor": "#E5ECF6",
            "gridcolor": "white",
            "gridwidth": 2,
            "linecolor": "white",
            "showbackground": true,
            "ticks": "",
            "zerolinecolor": "white"
           }
          },
          "shapedefaults": {
           "line": {
            "color": "#2a3f5f"
           }
          },
          "ternary": {
           "aaxis": {
            "gridcolor": "white",
            "linecolor": "white",
            "ticks": ""
           },
           "baxis": {
            "gridcolor": "white",
            "linecolor": "white",
            "ticks": ""
           },
           "bgcolor": "#E5ECF6",
           "caxis": {
            "gridcolor": "white",
            "linecolor": "white",
            "ticks": ""
           }
          },
          "title": {
           "x": 0.05
          },
          "xaxis": {
           "automargin": true,
           "gridcolor": "white",
           "linecolor": "white",
           "ticks": "",
           "title": {
            "standoff": 15
           },
           "zerolinecolor": "white",
           "zerolinewidth": 2
          },
          "yaxis": {
           "automargin": true,
           "gridcolor": "white",
           "linecolor": "white",
           "ticks": "",
           "title": {
            "standoff": 15
           },
           "zerolinecolor": "white",
           "zerolinewidth": 2
          }
         }
        }
       }
      },
      "image/png": "[encoded data removed]",
      "text/html": [
       "<div>                            <div id=\"6deb5015-bcf5-41c3-b9ca-152456abc762\" class=\"plotly-graph-div\" style=\"height:525px; width:100%;\"></div>            <script type=\"text/javascript\">                require([\"plotly\"], function(Plotly) {                    window.PLOTLYENV=window.PLOTLYENV || {};                                    if (document.getElementById(\"6deb5015-bcf5-41c3-b9ca-152456abc762\")) {                    Plotly.newPlot(                        \"6deb5015-bcf5-41c3-b9ca-152456abc762\",                        [{\"hovertemplate\":\"feature1=%{x}\\u003cbr\\u003efeature2=%{y}\\u003cbr\\u003etarget=%{z}\\u003cextra\\u003e\\u003c\\u002fextra\\u003e\",\"legendgroup\":\"\",\"marker\":{\"color\":\"#636efa\",\"symbol\":\"circle\"},\"mode\":\"markers\",\"name\":\"\",\"scene\":\"scene\",\"showlegend\":false,\"x\":[1.5346202827016708,-0.12492248322287586,-2.404576918628337,0.6443003139777574,1.3576772418211032,-0.8226789052437331,-0.6987461447768388,-1.0122621645561019,-1.1416352842088984,-0.7432553291190639,0.1736998013028402,1.0119522766660496,-0.8131042307203052,0.26906483051047475,0.012782069152583243,1.4293491019678475,-0.6481369762936783,0.1659413036040824,-0.40475205393342684,-0.5945485580371466,-0.6071157484265097,1.8882608793467226,-0.827312653090652,-1.8673656132668255,-0.2731430369969519,0.31159291976542175,-0.1431186808784276,0.32347077277196673,0.7103217341573523,-0.54851787145989,0.8348609592971032,-1.0040589723923816,-1.3471498709180443,-2.603974976164019,0.9576969669084949,0.17713963173492148,1.1041084381256554,-0.020891931002307525,-0.7262997223151512,1.200454664665966,-0.8307343859835482,0.031021009605751326,0.7939501174367761,-0.7010054699838489,0.15580470685540546,0.24038781120983302,0.0992367546782747,1.1243565161062408,-0.7512482379846163,1.7732564613067756,-0.34481054196905975,0.5755410343546087,1.0090615214231018,0.4142212492576877,-0.024961591477712222,0.2449419309107467,-1.0932485504000518,0.2735506709753171,-1.300512330930583,0.7247774199301973,0.8210011425119353,0.5289062623653241,-0.8299004328812967,0.20989069546988595,0.18387936432592128,1.0816174912907264,-0.2810083219306982,1.3498247470366094,-0.1865237785457901,-0.8962121162050504,-0.5396251197548244,1.010070006204098,0.5586622461825677,-0.7059084458823092,2.1283320262162877,-0.9558244566208961,0.9080890612543172,0.7984743105777551,2.3621788278739917,0.009188560829853943,-0.38754286102566304,1.8365083085815377,-1.7383445853681145,-0.08603018450520523,-1.2168128423339726,0.08106592497822868,-0.7965053887539961,-0.8196366247667902,1.0185187636722408,0.7642928760881488,-1.5127181948696293,-0.6588635388679935,0.008771103572695541,-1.8260962359263901,-0.13634257603774766,1.0070583274580693,-0.17080075767175873,0.5973218762583591,1.4375845854164195,0.25442264074131793],\"y\":[-0.6414790364742582,0.5559384443277905,-0.6455983669048243,0.49265684267587234,0.3981324608975986,1.665046573043473,-0.6543826078335235,-1.081647749907432,-0.9493496802929351,0.12035629912261131,0.5511274250674761,0.48298163971279606,-0.2800099943155198,0.6028408343975815,0.577527377202087,1.3532274652880514,0.7882793516930604,-0.21454004374868857,1.8328811289877585,0.8509323862960512,-0.616285483243706,-2.3866496068756757,1.269535838434565,0.6663700892348073,-0.3711712000788504,-0.2958035223535677,-1.0138199136063122,1.6802963493674028,0.12464721482237862,-0.7459577042455695,0.5344563567358208,-1.382110757352944,0.6609128602053183,0.7063774746986782,-0.03812406065048252,-0.09156314561650321,-0.06634217845439898,-0.2711890651661418,0.15979711186623566,2.251871048232685,-1.7741435699009236,1.6553181299625987,-2.4042414873102445,0.01281039438554717,-0.6020939240194395,1.1721271893372343,0.028803563560499183,0.7799122617619447,0.6675636646591847,1.7333232442695479,0.3018769730527696,-0.7951741736549638,-0.28341062263859884,1.3053033865384873,0.16406459519655794,1.1196187348806734,0.5856135109595906,0.4127279291540881,-1.0124468358533485,0.36831148195409363,0.13975394716269485,0.32361711967945195,-0.3212274204989989,0.5721639486006646,-0.6970897581064387,-1.604640275813219,0.13723612248076256,-0.306918000245214,-0.0206729492596697,0.8615479214022356,-0.4602596449595264,-0.5264002468073011,0.9688058003874788,-0.2893839466747637,-1.0236286360885207,-0.8779204447669812,0.19138932281191007,0.18979137028966467,-0.02565272896604744,1.2169552598353144,1.2635383537720826,1.3225993931685898,-0.3734365062086953,0.6341812295259461,0.23486943290270726,-0.3901410431278472,-0.9042392139205073,-0.1380612478096935,-0.2677368425415466,0.3543084325269339,0.2639709674153078,-0.6477477391467733,1.1359797839200867,0.2240946036706851,-0.17393890665359105,1.3566599136484887,-1.2538014737738843,0.017591282045067436,-0.7320892512279052,1.1382223636672844],\"z\":[178.47193214966393,118.32477854190877,-238.09495517472328,71.03599897099954,152.39585580266132,84.75761168793464,-64.10941473206194,-213.98292093832495,-209.15376431516387,-21.238345934783098,142.8421919979836,111.95565037288591,-113.67664722145099,60.86683225431206,39.64734522426472,215.56591435241077,56.36838528931469,16.454826192447968,98.27154749879665,-6.517668209096081,-127.47286990043592,32.02094342175415,89.04159475506977,-188.99058447110022,-82.88103820402803,28.219226654319005,-98.72555074953371,147.29814172468826,50.940499597769275,-128.2080370082767,122.6014143970463,-198.72909017328885,-151.80678285080927,-120.74363359441548,159.40601709917271,5.9069818543257195,63.575195520391716,-48.04649341799802,-100.1545284815814,306.6392086431318,-117.67120958483589,102.66180833400209,-82.53217267512191,-99.35364737905377,-85.88960861564131,103.89681707635954,45.631285660261675,237.3229807558378,-13.4330709884937,193.88859708372212,46.52630020416048,-26.52686705683289,-8.591236575502904,173.30083037217932,76.1734909400139,212.68393667480098,16.943087725754815,85.56876453952847,-280.2216827860598,64.56537782538203,169.01940267511523,41.95537211979961,-103.89010289021346,74.85103547430558,-102.48584487461851,-7.521879808414866,-0.8461063954945658,102.66481689527053,-17.60940826032695,-60.44822257102626,-71.45656378562589,143.7548153182603,107.43989538621392,-8.811648991885505,203.2308728462835,-147.99202403558996,-33.73401254153035,77.21159112606274,215.22776032894478,218.85225796656783,69.57043566487995,248.19646694505337,-138.37935228587563,51.74002706381085,-138.04355114631426,-17.45603179272627,-119.91925865193816,-42.01015037136287,39.052671973779375,120.42931571462888,-57.789717311807934,-164.85915393922087,201.51302836883667,-204.50452029910488,73.40467407326061,291.0995693690935,-173.23966581248357,14.105004559390018,138.6710335523208,170.3835511547881],\"type\":\"scatter3d\"},{\"x\":[-5.0,-3.888888888888889,-2.7777777777777777,-1.6666666666666665,-0.5555555555555554,0.5555555555555554,1.666666666666667,2.7777777777777786,3.8888888888888893,5.0],\"y\":[-5.0,-3.888888888888889,-2.7777777777777777,-1.6666666666666665,-0.5555555555555554,0.5555555555555554,1.666666666666667,2.7777777777777786,3.8888888888888893,5.0],\"z\":[[-856.529587290865,-755.7776995901814,-655.0258118894978,-554.2739241888142,-453.52203648813065,-352.77014878744717,-252.01826108676352,-151.2663733860799,-50.51448568539636,50.23740201528718],[-764.7717018276516,-664.019814126968,-563.2679264262844,-462.5160387256008,-361.7641510249172,-261.01226332423374,-160.2603756235501,-59.50848792286647,41.24339977781707,141.9952874785006],[-673.0138163644382,-572.2619286637546,-471.51004096307105,-370.75815326238745,-270.00626556170386,-169.25437786102034,-68.50249016033672,32.249397540346905,133.00128524103044,233.75317294171396],[-581.2559309012248,-480.5040432005412,-379.7521554998576,-279.0002677991741,-178.2483800984905,-77.49649239780695,23.25539530287668,124.0072830035603,224.75917070424384,325.5110584049274],[-489.4980454380114,-388.7461577373278,-287.99427003664425,-187.24238233596066,-86.49049463527706,14.261393065406466,115.01328076609008,215.7651684667737,316.5170561674572,417.26894386814075],[-397.740159974798,-296.9882722741145,-196.23638457343088,-95.48449687274729,5.267390827936283,106.01927852861982,206.77116622930345,307.52305392998704,408.2749416306706,509.0268293313541],[-305.9822745115846,-205.23038681090102,-104.47849911021743,-3.726611409533863,97.02527629114971,197.77716399183325,298.5290516925169,399.28093939320047,500.032827093884,600.7847147945675],[-214.22438904837117,-113.47250134768757,-12.720613647003987,88.0312740536796,188.78316175436316,289.5350494550467,390.2869371557303,491.03882485641395,591.7907125570974,692.542600257781],[-122.4665035851578,-21.714615884474224,79.03727181620937,179.78915951689294,280.54104721757653,381.29293491826,482.04482261894367,582.7967103196273,683.5485980203108,784.3004857209944],[-30.708618121944433,70.04326957873914,170.7951572794227,271.5470449801063,372.2989326807899,473.0508203814734,573.802708082157,674.5545957828407,775.3064834835242,876.0583711842078]],\"type\":\"surface\"}],                        {\"template\":{\"data\":{\"histogram2dcontour\":[{\"type\":\"histogram2dcontour\",\"colorbar\":{\"outlinewidth\":0,\"ticks\":\"\"},\"colorscale\":[[0.0,\"#0d0887\"],[0.1111111111111111,\"#46039f\"],[0.2222222222222222,\"#7201a8\"],[0.3333333333333333,\"#9c179e\"],[0.4444444444444444,\"#bd3786\"],[0.5555555555555556,\"#d8576b\"],[0.6666666666666666,\"#ed7953\"],[0.7777777777777778,\"#fb9f3a\"],[0.8888888888888888,\"#fdca26\"],[1.0,\"#f0f921\"]]}],\"choropleth\":[{\"type\":\"choropleth\",\"colorbar\":{\"outlinewidth\":0,\"ticks\":\"\"}}],\"histogram2d\":[{\"type\":\"histogram2d\",\"colorbar\":{\"outlinewidth\":0,\"ticks\":\"\"},\"colorscale\":[[0.0,\"#0d0887\"],[0.1111111111111111,\"#46039f\"],[0.2222222222222222,\"#7201a8\"],[0.3333333333333333,\"#9c179e\"],[0.4444444444444444,\"#bd3786\"],[0.5555555555555556,\"#d8576b\"],[0.6666666666666666,\"#ed7953\"],[0.7777777777777778,\"#fb9f3a\"],[0.8888888888888888,\"#fdca26\"],[1.0,\"#f0f921\"]]}],\"heatmap\":[{\"type\":\"heatmap\",\"colorbar\":{\"outlinewidth\":0,\"ticks\":\"\"},\"colorscale\":[[0.0,\"#0d0887\"],[0.1111111111111111,\"#46039f\"],[0.2222222222222222,\"#7201a8\"],[0.3333333333333333,\"#9c179e\"],[0.4444444444444444,\"#bd3786\"],[0.5555555555555556,\"#d8576b\"],[0.6666666666666666,\"#ed7953\"],[0.7777777777777778,\"#fb9f3a\"],[0.8888888888888888,\"#fdca26\"],[1.0,\"#f0f921\"]]}],\"heatmapgl\":[{\"type\":\"heatmapgl\",\"colorbar\":{\"outlinewidth\":0,\"ticks\":\"\"},\"colorscale\":[[0.0,\"#0d0887\"],[0.1111111111111111,\"#46039f\"],[0.2222222222222222,\"#7201a8\"],[0.3333333333333333,\"#9c179e\"],[0.4444444444444444,\"#bd3786\"],[0.5555555555555556,\"#d8576b\"],[0.6666666666666666,\"#ed7953\"],[0.7777777777777778,\"#fb9f3a\"],[0.8888888888888888,\"#fdca26\"],[1.0,\"#f0f921\"]]}],\"contourcarpet\":[{\"type\":\"contourcarpet\",\"colorbar\":{\"outlinewidth\":0,\"ticks\":\"\"}}],\"contour\":[{\"type\":\"contour\",\"colorbar\":{\"outlinewidth\":0,\"ticks\":\"\"},\"colorscale\":[[0.0,\"#0d0887\"],[0.1111111111111111,\"#46039f\"],[0.2222222222222222,\"#7201a8\"],[0.3333333333333333,\"#9c179e\"],[0.4444444444444444,\"#bd3786\"],[0.5555555555555556,\"#d8576b\"],[0.6666666666666666,\"#ed7953\"],[0.7777777777777778,\"#fb9f3a\"],[0.8888888888888888,\"#fdca26\"],[1.0,\"#f0f921\"]]}],\"surface\":[{\"type\":\"surface\",\"colorbar\":{\"outlinewidth\":0,\"ticks\":\"\"},\"colorscale\":[[0.0,\"#0d0887\"],[0.1111111111111111,\"#46039f\"],[0.2222222222222222,\"#7201a8\"],[0.3333333333333333,\"#9c179e\"],[0.4444444444444444,\"#bd3786\"],[0.5555555555555556,\"#d8576b\"],[0.6666666666666666,\"#ed7953\"],[0.7777777777777778,\"#fb9f3a\"],[0.8888888888888888,\"#fdca26\"],[1.0,\"#f0f921\"]]}],\"mesh3d\":[{\"type\":\"mesh3d\",\"colorbar\":{\"outlinewidth\":0,\"ticks\":\"\"}}],\"scatter\":[{\"fillpattern\":{\"fillmode\":\"overlay\",\"size\":10,\"solidity\":0.2},\"type\":\"scatter\"}],\"parcoords\":[{\"type\":\"parcoords\",\"line\":{\"colorbar\":{\"outlinewidth\":0,\"ticks\":\"\"}}}],\"scatterpolargl\":[{\"type\":\"scatterpolargl\",\"marker\":{\"colorbar\":{\"outlinewidth\":0,\"ticks\":\"\"}}}],\"bar\":[{\"error_x\":{\"color\":\"#2a3f5f\"},\"error_y\":{\"color\":\"#2a3f5f\"},\"marker\":{\"line\":{\"color\":\"#E5ECF6\",\"width\":0.5},\"pattern\":{\"fillmode\":\"overlay\",\"size\":10,\"solidity\":0.2}},\"type\":\"bar\"}],\"scattergeo\":[{\"type\":\"scattergeo\",\"marker\":{\"colorbar\":{\"outlinewidth\":0,\"ticks\":\"\"}}}],\"scatterpolar\":[{\"type\":\"scatterpolar\",\"marker\":{\"colorbar\":{\"outlinewidth\":0,\"ticks\":\"\"}}}],\"histogram\":[{\"marker\":{\"pattern\":{\"fillmode\":\"overlay\",\"size\":10,\"solidity\":0.2}},\"type\":\"histogram\"}],\"scattergl\":[{\"type\":\"scattergl\",\"marker\":{\"colorbar\":{\"outlinewidth\":0,\"ticks\":\"\"}}}],\"scatter3d\":[{\"type\":\"scatter3d\",\"line\":{\"colorbar\":{\"outlinewidth\":0,\"ticks\":\"\"}},\"marker\":{\"colorbar\":{\"outlinewidth\":0,\"ticks\":\"\"}}}],\"scattermapbox\":[{\"type\":\"scattermapbox\",\"marker\":{\"colorbar\":{\"outlinewidth\":0,\"ticks\":\"\"}}}],\"scatterternary\":[{\"type\":\"scatterternary\",\"marker\":{\"colorbar\":{\"outlinewidth\":0,\"ticks\":\"\"}}}],\"scattercarpet\":[{\"type\":\"scattercarpet\",\"marker\":{\"colorbar\":{\"outlinewidth\":0,\"ticks\":\"\"}}}],\"carpet\":[{\"aaxis\":{\"endlinecolor\":\"#2a3f5f\",\"gridcolor\":\"white\",\"linecolor\":\"white\",\"minorgridcolor\":\"white\",\"startlinecolor\":\"#2a3f5f\"},\"baxis\":{\"endlinecolor\":\"#2a3f5f\",\"gridcolor\":\"white\",\"linecolor\":\"white\",\"minorgridcolor\":\"white\",\"startlinecolor\":\"#2a3f5f\"},\"type\":\"carpet\"}],\"table\":[{\"cells\":{\"fill\":{\"color\":\"#EBF0F8\"},\"line\":{\"color\":\"white\"}},\"header\":{\"fill\":{\"color\":\"#C8D4E3\"},\"line\":{\"color\":\"white\"}},\"type\":\"table\"}],\"barpolar\":[{\"marker\":{\"line\":{\"color\":\"#E5ECF6\",\"width\":0.5},\"pattern\":{\"fillmode\":\"overlay\",\"size\":10,\"solidity\":0.2}},\"type\":\"barpolar\"}],\"pie\":[{\"automargin\":true,\"type\":\"pie\"}]},\"layout\":{\"autotypenumbers\":\"strict\",\"colorway\":[\"#636efa\",\"#EF553B\",\"#00cc96\",\"#ab63fa\",\"#FFA15A\",\"#19d3f3\",\"#FF6692\",\"#B6E880\",\"#FF97FF\",\"#FECB52\"],\"font\":{\"color\":\"#2a3f5f\"},\"hovermode\":\"closest\",\"hoverlabel\":{\"align\":\"left\"},\"paper_bgcolor\":\"white\",\"plot_bgcolor\":\"#E5ECF6\",\"polar\":{\"bgcolor\":\"#E5ECF6\",\"angularaxis\":{\"gridcolor\":\"white\",\"linecolor\":\"white\",\"ticks\":\"\"},\"radialaxis\":{\"gridcolor\":\"white\",\"linecolor\":\"white\",\"ticks\":\"\"}},\"ternary\":{\"bgcolor\":\"#E5ECF6\",\"aaxis\":{\"gridcolor\":\"white\",\"linecolor\":\"white\",\"ticks\":\"\"},\"baxis\":{\"gridcolor\":\"white\",\"linecolor\":\"white\",\"ticks\":\"\"},\"caxis\":{\"gridcolor\":\"white\",\"linecolor\":\"white\",\"ticks\":\"\"}},\"coloraxis\":{\"colorbar\":{\"outlinewidth\":0,\"ticks\":\"\"}},\"colorscale\":{\"sequential\":[[0.0,\"#0d0887\"],[0.1111111111111111,\"#46039f\"],[0.2222222222222222,\"#7201a8\"],[0.3333333333333333,\"#9c179e\"],[0.4444444444444444,\"#bd3786\"],[0.5555555555555556,\"#d8576b\"],[0.6666666666666666,\"#ed7953\"],[0.7777777777777778,\"#fb9f3a\"],[0.8888888888888888,\"#fdca26\"],[1.0,\"#f0f921\"]],\"sequentialminus\":[[0.0,\"#0d0887\"],[0.1111111111111111,\"#46039f\"],[0.2222222222222222,\"#7201a8\"],[0.3333333333333333,\"#9c179e\"],[0.4444444444444444,\"#bd3786\"],[0.5555555555555556,\"#d8576b\"],[0.6666666666666666,\"#ed7953\"],[0.7777777777777778,\"#fb9f3a\"],[0.8888888888888888,\"#fdca26\"],[1.0,\"#f0f921\"]],\"diverging\":[[0,\"#8e0152\"],[0.1,\"#c51b7d\"],[0.2,\"#de77ae\"],[0.3,\"#f1b6da\"],[0.4,\"#fde0ef\"],[0.5,\"#f7f7f7\"],[0.6,\"#e6f5d0\"],[0.7,\"#b8e186\"],[0.8,\"#7fbc41\"],[0.9,\"#4d9221\"],[1,\"#276419\"]]},\"xaxis\":{\"gridcolor\":\"white\",\"linecolor\":\"white\",\"ticks\":\"\",\"title\":{\"standoff\":15},\"zerolinecolor\":\"white\",\"automargin\":true,\"zerolinewidth\":2},\"yaxis\":{\"gridcolor\":\"white\",\"linecolor\":\"white\",\"ticks\":\"\",\"title\":{\"standoff\":15},\"zerolinecolor\":\"white\",\"automargin\":true,\"zerolinewidth\":2},\"scene\":{\"xaxis\":{\"backgroundcolor\":\"#E5ECF6\",\"gridcolor\":\"white\",\"linecolor\":\"white\",\"showbackground\":true,\"ticks\":\"\",\"zerolinecolor\":\"white\",\"gridwidth\":2},\"yaxis\":{\"backgroundcolor\":\"#E5ECF6\",\"gridcolor\":\"white\",\"linecolor\":\"white\",\"showbackground\":true,\"ticks\":\"\",\"zerolinecolor\":\"white\",\"gridwidth\":2},\"zaxis\":{\"backgroundcolor\":\"#E5ECF6\",\"gridcolor\":\"white\",\"linecolor\":\"white\",\"showbackground\":true,\"ticks\":\"\",\"zerolinecolor\":\"white\",\"gridwidth\":2}},\"shapedefaults\":{\"line\":{\"color\":\"#2a3f5f\"}},\"annotationdefaults\":{\"arrowcolor\":\"#2a3f5f\",\"arrowhead\":0,\"arrowwidth\":1},\"geo\":{\"bgcolor\":\"white\",\"landcolor\":\"#E5ECF6\",\"subunitcolor\":\"white\",\"showland\":true,\"showlakes\":true,\"lakecolor\":\"white\"},\"title\":{\"x\":0.05},\"mapbox\":{\"style\":\"light\"}}},\"scene\":{\"domain\":{\"x\":[0.0,1.0],\"y\":[0.0,1.0]},\"xaxis\":{\"title\":{\"text\":\"feature1\"}},\"yaxis\":{\"title\":{\"text\":\"feature2\"}},\"zaxis\":{\"title\":{\"text\":\"target\"}}},\"legend\":{\"tracegroupgap\":0},\"margin\":{\"t\":60}},                        {\"responsive\": true}                    ).then(function(){\n",
       "                            \n",
       "var gd = document.getElementById('6deb5015-bcf5-41c3-b9ca-152456abc762');\n",
       "var x = new MutationObserver(function (mutations, observer) {{\n",
       "        var display = window.getComputedStyle(gd).display;\n",
       "        if (!display || display === 'none') {{\n",
       "            console.log([gd, 'removed!']);\n",
       "            Plotly.purge(gd);\n",
       "            observer.disconnect();\n",
       "        }}\n",
       "}});\n",
       "\n",
       "// Listen for the removal of the full notebook cells\n",
       "var notebookContainer = gd.closest('#notebook-container');\n",
       "if (notebookContainer) {{\n",
       "    x.observe(notebookContainer, {childList: true});\n",
       "}}\n",
       "\n",
       "// Listen for the clearing of the current output cell\n",
       "var outputEl = gd.closest('.output');\n",
       "if (outputEl) {{\n",
       "    x.observe(outputEl, {childList: true});\n",
       "}}\n",
       "\n",
       "                        })                };                });            </script>        </div>"
      ]
     },
     "metadata": {},
     "output_type": "display_data"
    }
   ],
   "source": [
    "fig = px.scatter_3d(df ,x= 'feature1' ,y= 'feature2' ,z= 'target')\n",
    "fig.add_trace(go.Surface(x=x, y=y, z=z_final))\n",
    "fig.show()\n"
   ]
  },
  {
   "cell_type": "code",
   "execution_count": null,
   "id": "ffad458a-c860-49eb-bc31-ce848e08bebc",
   "metadata": {},
   "outputs": [],
   "source": []
  }
 ],
 "metadata": {
  "kernelspec": {
   "display_name": "Python 3 (ipykernel)",
   "language": "python",
   "name": "python3"
  },
  "language_info": {
   "codemirror_mode": {
    "name": "ipython",
    "version": 3
   },
   "file_extension": ".py",
   "mimetype": "text/x-python",
   "name": "python",
   "nbconvert_exporter": "python",
   "pygments_lexer": "ipython3",
   "version": "3.12.7"
  }
 },
 "nbformat": 4,
 "nbformat_minor": 5
}
